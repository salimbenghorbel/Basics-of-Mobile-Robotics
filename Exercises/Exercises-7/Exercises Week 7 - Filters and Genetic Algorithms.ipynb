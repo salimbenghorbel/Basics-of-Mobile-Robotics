{
 "cells": [
  {
   "cell_type": "markdown",
   "metadata": {},
   "source": [
    "<div style=\"border:1px solid black; padding:20px 20px;text-align: justify;text-justify: inter-word\">\n",
    "    <strong>Exercise Session 7 - Filters and Genetic Algorithms<br/> Autumn 2020 <br/> Duration : 4 hours (2 in session + 2 at home)</strong><br/><br/>\n",
    "    <span style=\"text-decoration:underline;font-weight:bold;\">How to use this notebook?</span><br/>\n",
    "    This notebook is made of text cells and code cells. The code cells have to be <strong>executed</strong> to see the result of the program. To execute a cell, simply select it and click on the \"play\" button (<span style=\"font: bold 12px/30px Arial, serif;\">&#9658;</span>) in the tool bar just above the notebook, or type <code>shift + enter</code>. It is important to execute the code cells in their order of appearance in the notebook.<br/>\n",
    "You can make use of the table of contents to navigate easily between sections.\n",
    "</div>\n",
    "\n",
    "<br/>\n",
    "\n",
    "<div style=\"justify;text-justify: inter-word\">\n",
    "So that you may familiarise with the notebooks and the basic python syntax, the exercises are provided in notebook form and whenever there are any calculations to be made, we encourage you to do them by code. Also, if you want to take notes, we encourage you to use the markdown or Raw NBConvert cells. \n",
    "</div>"
   ]
  },
  {
   "cell_type": "markdown",
   "metadata": {
    "toc": true
   },
   "source": [
    "<h1>Table of Contents<span class=\"tocSkip\"></span></h1>\n",
    "<div class=\"toc\"><ul class=\"toc-item\"><li><span><a href=\"#Learning-Goals\" data-toc-modified-id=\"Learning-Goals-1\"><span class=\"toc-item-num\">1&nbsp;&nbsp;</span>Learning Goals</a></span></li><li><span><a href=\"#Genetic-algorithm-principle\" data-toc-modified-id=\"Genetic-algorithm-principle-2\"><span class=\"toc-item-num\">2&nbsp;&nbsp;</span>Genetic algorithm principle</a></span></li><li><span><a href=\"#GA-implementation\" data-toc-modified-id=\"GA-implementation-3\"><span class=\"toc-item-num\">3&nbsp;&nbsp;</span>GA implementation</a></span><ul class=\"toc-item\"><li><span><a href=\"#Some-python-tips\" data-toc-modified-id=\"Some-python-tips-3.1\"><span class=\"toc-item-num\">3.1&nbsp;&nbsp;</span>Some python tips</a></span><ul class=\"toc-item\"><li><span><a href=\"#Classes\" data-toc-modified-id=\"Classes-3.1.1\"><span class=\"toc-item-num\">3.1.1&nbsp;&nbsp;</span>Classes</a></span></li><li><span><a href=\"#Enums\" data-toc-modified-id=\"Enums-3.1.2\"><span class=\"toc-item-num\">3.1.2&nbsp;&nbsp;</span>Enums</a></span></li></ul></li><li><span><a href=\"#The-MapNode-class\" data-toc-modified-id=\"The-MapNode-class-3.2\"><span class=\"toc-item-num\">3.2&nbsp;&nbsp;</span>The MapNode class</a></span></li><li><span><a href=\"#Global-definitions-of-variables-(Those-are-used-in-many-functions-later)\" data-toc-modified-id=\"Global-definitions-of-variables-(Those-are-used-in-many-functions-later)-3.3\"><span class=\"toc-item-num\">3.3&nbsp;&nbsp;</span>Global definitions of variables (Those are used in many functions later)</a></span></li><li><span><a href=\"#Create-necessary-classes-and-functions\" data-toc-modified-id=\"Create-necessary-classes-and-functions-3.4\"><span class=\"toc-item-num\">3.4&nbsp;&nbsp;</span>Create necessary classes and functions</a></span></li><li><span><a href=\"#Create-our-initial-population\" data-toc-modified-id=\"Create-our-initial-population-3.5\"><span class=\"toc-item-num\">3.5&nbsp;&nbsp;</span>Create our initial population</a></span></li><li><span><a href=\"#Create-the-genetic-algorithm\" data-toc-modified-id=\"Create-the-genetic-algorithm-3.6\"><span class=\"toc-item-num\">3.6&nbsp;&nbsp;</span>Create the genetic algorithm</a></span></li><li><span><a href=\"#Running-the-genetic-algorithm\" data-toc-modified-id=\"Running-the-genetic-algorithm-3.7\"><span class=\"toc-item-num\">3.7&nbsp;&nbsp;</span>Running the genetic algorithm</a></span></li><li><span><a href=\"#But-are-GAs-more-than-just-random-search?\" data-toc-modified-id=\"But-are-GAs-more-than-just-random-search?-3.8\"><span class=\"toc-item-num\">3.8&nbsp;&nbsp;</span>But are GAs more than just random search?</a></span></li></ul></li><li><span><a href=\"#Particle-Filters-and-Bayesian-Filters\" data-toc-modified-id=\"Particle-Filters-and-Bayesian-Filters-4\"><span class=\"toc-item-num\">4&nbsp;&nbsp;</span>Particle Filters and Bayesian Filters</a></span></li><li><span><a href=\"#Comparing-the-GA-and-the-Particle-Filter\" data-toc-modified-id=\"Comparing-the-GA-and-the-Particle-Filter-5\"><span class=\"toc-item-num\">5&nbsp;&nbsp;</span>Comparing the GA and the Particle Filter</a></span></li></ul></div>"
   ]
  },
  {
   "cell_type": "markdown",
   "metadata": {},
   "source": [
    "# Learning Goals\n",
    "\n",
    "- Comparison between several filters for localisation, parallelwith other techniques like GA.\n",
    "\n",
    "- Get a better understanding of the mechanisms behind thevarious types of filters\n",
    "\n",
    "To represent a belief there are several possible representations. We would like tocompare them by understanding the basic mechanisms underlying the represen-tations, and their update. We look first to the mechanisms behind the particlefilter, then we compare this appraoch to the bayesian and kalman filters.\n"
   ]
  },
  {
   "cell_type": "markdown",
   "metadata": {},
   "source": [
    "# Genetic algorithm principle\n",
    "\n",
    "In particle filters, we work with a population of particles, whose density isrepresenting the probability of the variable having the value of the locationof the particles.  The resampling step, based on the measurement step, is aprobabilistic implementation of the Darwinian idea of survival of the fittest: itrefocuses the particle set to regions in state space with high posterior probability.\n",
    "\n",
    "There is another simpler implementation of the Darwinian idea of survivalof the fittest: the genetic algorithm, used for optimisation.\n",
    "\n",
    "To start studying the genetic algorithm, please have a look [this tutorial](https://towardsdatascience.com/evolution-of-a-salesman-a-complete-genetic-algorithm-tutorial-for-python-6fe5d2b3ca35). \n",
    "\n",
    "It is important to understand the various pieces of code and retrace a scheme of the algorithm.\n",
    "\n",
    "Start by answering the following questions:\n",
    "\n",
    "\n",
    "1. Why the population of generation $x$ tends to be better than the populationof generation $x−1$?\n",
    "\n",
    "\n",
    "2. Which are the criteria used to define what is better?\n",
    "\n",
    "\n",
    "3. How is an individual represented?\n",
    "\n",
    "\n",
    "4. What operations do take place between a generation and the next?"
   ]
  },
  {
   "cell_type": "markdown",
   "metadata": {},
   "source": [
    "# GA implementation"
   ]
  },
  {
   "cell_type": "markdown",
   "metadata": {},
   "source": [
    "\n",
    "This exercise aims at helping you understand the basic components that make up a genetic algorithm (GA). A general GA has 3 basic operations, that is: selection, crossover, mutation. In this exercise you will go through all of these operation and implement them. You will also encounter a very common issue in optimization which is selecting a proper fitness function that will smoothly guide your search algorithm to a solution.\n",
    "\n",
    "Before proceeding with the exercise take a look at the following [tutorial](https://towardsdatascience.com/evolution-of-a-salesman-a-complete-genetic-algorithm-tutorial-for-python-6fe5d2b3ca35) and the corresponding [code](https://github.com/ezstoltz/genetic-algorithm).\n",
    "\n",
    "We now want you to solve a similar problem for a mobile robot navigation scenario. Imagine that you have a 2D map of free blocks or obstacles. Your robot has a starting and a goal position and needs to learn the optimal route to get there. The problem is depicted in the image below: \n",
    "\n",
    "![title](res/map.png)\n",
    "\n",
    "For this task you can use a GA whose individuals would represent a series of movements in the map. Each gene is a simple movement primitive in on direction (i.e., North, West, South, East). You can draw inspiration from the tutorial you just read and even use whole blocks of code to solve the problem at hand.\n",
    "\n",
    "It is recommended that you follow the following instructions to solve the exercise, but if you feel that this is too constrained you may alter the structure completely.\n",
    "\n",
    "Steps for solving the exercise:\n",
    "\n",
    "    1. Familiarize yourself with GAs and study the use of the selection, crossover and mutation operations.\n",
    "    \n",
    "    2. Implement the MapNode class to hold information concerning a node of the grid. This would include coordinates and the obstacle flag.\n",
    "    \n",
    "    3. The code to recreate the map of the above image is already provided.\n",
    "    \n",
    "    4. Implement each missing component (selection, crossover, mutation) at a time by commenting the rest. The problem is simple enough for you to manually test if your implementation is correct.\n",
    "    \n",
    "    5. Once you feel confident that your basic GA structure is working you will need to construct a good fitness function. **No** there is no perfect fitness function for this problem. You will need to try and fail in order to find one that works. You will also need to implement an appropriate crossover or mutation to guide the search.\n",
    "    \n",
    "    6. Allow your GA to run for lots of generations (~ 2000). Although it might seem simple and low dimensional, evolving the optimal solution is not trivial.\n",
    "\n",
    "    7. Once you are confident that your GA is working, use the plot function that is already provided (and update its generation, population, etc parameters) to visualize the evolution of the fitness over generations. Remember that GAs work in a stochastic manner. This means that you should run your GA at least a few times (say 5) and keep the fitness vs generation plot before you can draw conclusions about the performance of the algorithm and the difficulty of the task you have.\n",
    "    \n",
    "    \n",
    "    \n",
    "**If you want to write your own GA or do not want to represent the map nodes the way it is proposed, you may re-write everything.**\n",
    "\n",
    "\n",
    "The optimal solution for this problem is depicted below and corresponds to the following series of movements: \n",
    "\n",
    "**EAST - SOUTH - SOUTH - EAST - EAST - EAST - EAST - NORTH - EAST (a total of 9 moves)**\n",
    "\n",
    "\n",
    "![title](res/map_solved.png)\n",
    "\n",
    "\n",
    "\n",
    "## Some python tips\n",
    "\n",
    "### Classes\n",
    "\n",
    "You may already be familiar with object-oriented programming. If not do not worry, the exercise is not about that. In python you define a class as follows:\n",
    "\n",
    "```python\n",
    "\n",
    "class Foo:\n",
    "    def __init__(self, someParam) \n",
    "        \"\"\"\n",
    "        This is the constructor of the class. Never forget the self parameter. \n",
    "        It could be loosely seen as the \"this\" of C++/Java\n",
    "        \"\"\"\n",
    "        self.someParam = someParam # you can store member variables using the self keyword\n",
    "        \n",
    "    def fooFun1(self):\n",
    "        pass\n",
    "      \n",
    "    def fooFun2(self, someOtherParam):\n",
    "        pass\n",
    "    \n",
    "    def getSomeParam(self):\n",
    "        return self.someParam # this is the member variable initialized in the constructor\n",
    "    \n",
    "# Using an instance of the class is similar to any other object-oriented language\n",
    "instance = Foo()\n",
    "instance.fooFun1()\n",
    "instance.fooFun2(2)\n",
    "\n",
    "# accessing member variables of an object\n",
    "print(instance.getSomeParam())\n",
    "\n",
    "```\n",
    "\n",
    "You can find a complete tutorial on classes in the following [link](https://docs.python.org/3/tutorial/classes.html).\n",
    "\n",
    "\n",
    "### Enums\n",
    "\n",
    "Enums are generic enumeration data structures that allow you to write more generalized code. In the following template we use Enums to encode the movement primitives. **Once again, if you are not comfortable with the use of Enums feel free to represent the movements in your own way**\n",
    "\n",
    "```python\n",
    "\n",
    "from enum import Enum\n",
    "\n",
    "class Ops(Enum):\n",
    "        NORTH = 1\n",
    "        EAST = 2\n",
    "        SOUTH = 3\n",
    "        WEST = 4\n",
    "\n",
    "movements = Ops()\n",
    "\n",
    "# you can also use the shorthand declartion        \n",
    "movements = Enum('Οps', 'NORTH EAST SOUTH WEST')  \n",
    "```\n",
    "\n",
    "\n",
    "You can find a more complete Enum tutorial for python [here](http://www.blog.pythonlibrary.org/2018/03/20/python-3-an-intro-to-enumerations/).\n"
   ]
  },
  {
   "cell_type": "code",
   "execution_count": 2,
   "metadata": {},
   "outputs": [],
   "source": [
    "import numpy as np, random, operator, matplotlib.pyplot as plt\n",
    "from matplotlib import colors\n",
    "from enum import Enum"
   ]
  },
  {
   "cell_type": "markdown",
   "metadata": {},
   "source": [
    "## The MapNode class"
   ]
  },
  {
   "cell_type": "markdown",
   "metadata": {},
   "source": [
    "Create class to handle \"MapNode\" to represent nodes in the map. Each of those nodes is defined by a set of coordinates and a flag that marks it as an obstacle or not.\n",
    "\n",
    "You may also define the \\__repr\\__ function to print the node in graphical way. \n",
    "\n",
    "**Note that instead of having a class to represent a node you may use a matrix (numpy array) to represent the whole map. This means you will need to alter the template below.**"
   ]
  },
  {
   "cell_type": "code",
   "execution_count": 3,
   "metadata": {},
   "outputs": [],
   "source": [
    "class MapNode:\n",
    "    def __init__(self, x, y, is_obstacle=False):\n",
    "        \"\"\"\n",
    "        :param x: int\n",
    "        :param y: int \n",
    "        :param is_obstacle: bool, optional     \n",
    "        \"\"\"\n",
    "        self.x = x\n",
    "        self.y = y\n",
    "        self.is_obstacle = is_obstacle\n",
    "\n",
    "        \n",
    "    def setObstacle(self, is_obstacle):\n",
    "        \"\"\"\n",
    "        :brief: Set the node to obstacle (True or False)\n",
    "\n",
    "        :param is_obstacle: bool\n",
    "        \"\"\"\n",
    "        self.is_obstacle = is_obstacle\n",
    "\n",
    "        \n",
    "    def isObstacle(self):\n",
    "        \"\"\"\n",
    "        :brief: Check if the node is an obstacle\n",
    "\n",
    "        :return: bool\n",
    "        \"\"\"\n",
    "        return self.is_obstacle"
   ]
  },
  {
   "cell_type": "markdown",
   "metadata": {},
   "source": [
    "## Global definitions of variables (Those are used in many functions later)"
   ]
  },
  {
   "cell_type": "markdown",
   "metadata": {},
   "source": [
    "Setting the dimensions of the map that the robot will explore."
   ]
  },
  {
   "cell_type": "code",
   "execution_count": 4,
   "metadata": {
    "scrolled": true
   },
   "outputs": [],
   "source": [
    "columns = 7 # dimension of the X axis\n",
    "rows = 8 # dimension of the Y axis"
   ]
  },
  {
   "cell_type": "markdown",
   "metadata": {},
   "source": [
    "Set the possible robot movements and an upper threshold for the trajectory length."
   ]
  },
  {
   "cell_type": "code",
   "execution_count": 5,
   "metadata": {},
   "outputs": [],
   "source": [
    "movements = Enum('Οps', 'NORTH EAST SOUTH WEST')     # define the possible robot movements\n",
    "maxLen = 5 * columns                                    # define a maximum trajectory length"
   ]
  },
  {
   "cell_type": "markdown",
   "metadata": {},
   "source": [
    "Create a map with obstacles that the robot will need to navigate. Here each coordinate of the grid map is represented by a MapNode instance stored in a list. \n",
    "\n",
    "**This is a design choice you are not obliged to make**. If you think of a better design do not hesitate to change the structure of the code to fit your own logic."
   ]
  },
  {
   "cell_type": "code",
   "execution_count": 6,
   "metadata": {},
   "outputs": [],
   "source": [
    "occupancyList = []\n",
    "\n",
    "# attribute coordinates to each of the map nodes\n",
    "for row in range(rows):\n",
    "    for col in range(columns):\n",
    "        occupancyList.append(MapNode(x=row, y=col, is_obstacle=True))"
   ]
  },
  {
   "cell_type": "markdown",
   "metadata": {},
   "source": [
    "In the previous step we set all the nodes to be obstacles. Below we will free up some of the nodes so that the robot can navigate from the starting positions to the final one."
   ]
  },
  {
   "cell_type": "code",
   "execution_count": 7,
   "metadata": {},
   "outputs": [],
   "source": [
    "# set some nodes to not be obstacles\n",
    "start = (1, 0)\n",
    "end = (2, 6)\n",
    "\n",
    "free = [start, end,\n",
    "        (1, 1), (2, 1), (3, 1), (3, 2),\n",
    "        (3, 3), (3, 4), (3, 5), (2, 5),\n",
    "        (4, 1), (4, 2), (4, 4), (4, 5),\n",
    "        (5, 1), (5, 2), (5, 3), (5, 4), (5, 5),\n",
    "        (6, 1), (6, 2), (6, 3), (6, 4), (6, 5),\n",
    "        (1, 5), (1, 4), (1, 3), (2, 3)]\n",
    "\n",
    "# we are storing a 2D map in a 1D list, therefore we need to compute\n",
    "# the position of the given coordinate set in the list\n",
    "for node in free:\n",
    "    occupancyList[columns * node[0] + node[1]].setObstacle(False)"
   ]
  },
  {
   "cell_type": "markdown",
   "metadata": {},
   "source": [
    "At any point you can use the following function to print your map graphically. All you need to do is call the function `printMap`. Notice that you can also provide a route argument that will draw a path on the map."
   ]
  },
  {
   "cell_type": "code",
   "execution_count": 8,
   "metadata": {
    "scrolled": true
   },
   "outputs": [
    {
     "data": {
      "image/png": "[encoded data removed]",
      "text/plain": [
       "<Figure size 360x360 with 1 Axes>"
      ]
     },
     "metadata": {
      "needs_background": "light"
     },
     "output_type": "display_data"
    }
   ],
   "source": [
    "def printMap(occupancyList, route=None, start=None, figsize=(5, 5)):\n",
    "    mapVis = np.zeros(shape=(rows, columns))\n",
    "    for row in range(rows):\n",
    "        for col in range(columns):\n",
    "            mapVis[row, col] = occupancyList[columns * row + col].isObstacle()\n",
    "\n",
    "    # marking the route on the map\n",
    "    if route is not None and start is not None:\n",
    "        mapVis[start[0], start[1]] = -1\n",
    "        reached = start\n",
    "        for movement in route:\n",
    "            reached = {\n",
    "                movements.NORTH: (reached[0] - 1, reached[1]),\n",
    "                movements.EAST: (reached[0], reached[1] + 1),\n",
    "                movements.SOUTH: (reached[0] + 1, reached[1]),\n",
    "                movements.WEST: (reached[0], reached[1] - 1),\n",
    "            }[movement]       \n",
    "            mapVis[reached[0], reached[1]] = -1\n",
    "    \n",
    "    plt.figure(figsize=figsize)\n",
    "    cmap = colors.ListedColormap(['yellow', 'white','gray'])\n",
    "    plt.pcolor(mapVis, cmap=cmap, edgecolors='k', linewidths=1, vmin=-1, vmax=1)\n",
    "    plt.gca().invert_yaxis()\n",
    "\n",
    "printMap(occupancyList)"
   ]
  },
  {
   "cell_type": "markdown",
   "metadata": {},
   "source": [
    "## Create necessary classes and functions"
   ]
  },
  {
   "cell_type": "markdown",
   "metadata": {},
   "source": [
    "Create a fitness function that will consist of 3 elements given a generated trajectory: \n",
    "    1. the distance from the end goal when the trajectory has been traversed\n",
    "    2. the length of the trajectory (we want reward the shortest path)\n",
    "    3. the number of collisions with obstacles\n",
    "    \n",
    "The above elements should be minimized. **Be careful** that the algorithm in the tutorial is maximizing. You should either adjust your fitness function or the ranking logic.\n",
    "\n",
    "It is **required** that you experiment with different weights for these 3 elements until you get a good convergence to generation ratio."
   ]
  },
  {
   "cell_type": "code",
   "execution_count": null,
   "metadata": {},
   "outputs": [],
   "source": [
    "class Fitness:\n",
    "    def __init__(self, route):\n",
    "        \"\"\"\n",
    "        :param route: list of Ops enums\n",
    "        \"\"\"\n",
    "        # TODO: 1. store the route and \n",
    "        #       2. initialize a fitness to some value\n",
    "        # code goes here\n",
    "\n",
    "    def routeCost(self):\n",
    "        \"\"\"\n",
    "        :brief: This function computes the fitness values that\n",
    "                should be attributed to a route. It needs to \n",
    "                take into account:\n",
    "                1) the collisions with obstacles,\n",
    "                2) the distance to the goal and \n",
    "                3) the length of the generated series of movements (trajectory)\n",
    "\n",
    "        :return: float\n",
    "        \"\"\"\n",
    "        # TODO: simulate the movements of the robot and reward or penalize\n",
    "        #       at every step to construct your fitness\n",
    "        \n",
    "        # 1. define some counters that will help you compute the fitness [optional]\n",
    "        someCounter = 0\n",
    "        \n",
    "        # 2. set the robot in its starting positions\n",
    "        reached = start\n",
    "        \n",
    "        \n",
    "        # 3. compute the reach point of the route from the starting point \n",
    "        #    (traverse through each movement and update the reach variable)\n",
    "        for movement in self.route:\n",
    "            # code goes here\n",
    "            \n",
    "            # 4. check for collisions and penalize the route\n",
    "            if (\"some conditions (yes you need to change this)\")\n",
    "                # code goes here\n",
    "            \n",
    "            \n",
    "        # 5. compute the fitness by creating a linear combination of penalties and rewards\n",
    "        fitness =  # code goes here for the computation of the fitness value\n",
    "        \n",
    "        return fitness\n",
    "    \n",
    "    def routeFitness(self):\n",
    "        \"\"\"\n",
    "        :brief: Fitness value getter\n",
    "\n",
    "        :return: float\n",
    "        \"\"\"\n",
    "        self.fitness = self.routeCost()\n",
    "        return self.fitness\n"
   ]
  },
  {
   "cell_type": "markdown",
   "metadata": {},
   "source": [
    "## Create our initial population"
   ]
  },
  {
   "cell_type": "markdown",
   "metadata": {},
   "source": [
    "Here you should implement a function to generate random trajectories that will be attributed a fitness value later on. These routes should have random length up to a maximum value. This will allow for more diverse candidate solutions and possibly alternate valid trajectories."
   ]
  },
  {
   "cell_type": "code",
   "execution_count": null,
   "metadata": {},
   "outputs": [],
   "source": [
    "def createRoute(movements):\n",
    "    \"\"\"\n",
    "    :brief: Creates a randomly generated trajectory of variable length\n",
    "\n",
    "    :param movements: Ops enum (contains the series of available movements: NORTH - WEST - SOUTH - EAST) \n",
    "    :return: list of Ops enums\n",
    "    \"\"\"\n",
    "    route = []\n",
    "    # TODO: generate a random series of movements of random length\n",
    "    # code goes here\n",
    "    return route"
   ]
  },
  {
   "cell_type": "markdown",
   "metadata": {},
   "source": [
    "Create first \"population\" (list of routes)."
   ]
  },
  {
   "cell_type": "code",
   "execution_count": null,
   "metadata": {},
   "outputs": [],
   "source": [
    "def initialPopulation(popSize, movements):\n",
    "    \"\"\"\n",
    "    :brief: Initializes the population at the 0th generation of the GA\n",
    "\n",
    "    :param popSize: int (population size)\n",
    "    :param movements: Ops enum (contains the series of available movements: NORTH - WEST - SOUTH - EAST)\n",
    "    :return: list of lists of Ops enums\n",
    "    \"\"\"\n",
    "    population = []\n",
    "    for _ in range(0, popSize):\n",
    "        population.append(createRoute(movements))\n",
    "    return population"
   ]
  },
  {
   "cell_type": "markdown",
   "metadata": {},
   "source": [
    "## Create the genetic algorithm"
   ]
  },
  {
   "cell_type": "markdown",
   "metadata": {},
   "source": [
    "Rank the individuals in **descending** order of fitness values. Once again note that this genetic algorithm is set to maximize the fitness value.\n",
    "\n",
    "You can make the appropriate changes to minimize instead."
   ]
  },
  {
   "cell_type": "code",
   "execution_count": null,
   "metadata": {},
   "outputs": [],
   "source": [
    "def rankRoutes(population):\n",
    "    \"\"\"\n",
    "    :brief: Ranks the individuals according to their fitness value\n",
    "\n",
    "    :param population: list of lists of Ops enums \n",
    "    :return: list of tuples of ints and floats (the ints stand for indices and floats are fitnesses)\n",
    "    \"\"\"\n",
    "    fitnessResults = {}\n",
    "    for i in range(0, len(population)):\n",
    "        fitnessResults[i] = Fitness(population[i]).routeFitness()\n",
    "    return sorted(fitnessResults.items(), key=operator.itemgetter(1), reverse=True)"
   ]
  },
  {
   "cell_type": "markdown",
   "metadata": {},
   "source": [
    "Create a selection function that will be used to make the list of parent routes. \n",
    "\n",
    "In the example that is linked on the pdf you saw how the roulette wheel selection works. You are now **asked** to implement a simpler selection method called [tournament selection](https://en.wikipedia.org/wiki/Tournament_selection)\n",
    "\n",
    "Take note that some \"elite\" solutions are always preserved. "
   ]
  },
  {
   "cell_type": "code",
   "execution_count": null,
   "metadata": {},
   "outputs": [],
   "source": [
    "def selection(popRanked, eliteSize):\n",
    "    \"\"\"\n",
    "    :brief: Selects individuals that will proceed to the next operation/generation\n",
    "\n",
    "    :param popRanked: list of tuples of ints and floats (the ints stand for indices and floats are fitnesses)\n",
    "    :param eliteSize: int (the number of elite individuals that should be preserved)\n",
    "    :return: list of Ops enums\n",
    "    \"\"\"\n",
    "    # TODO: Implement a tournament selection logic for the population\n",
    "    \n",
    "    selectionResults = []\n",
    "\n",
    "    # 1. elite members advance without any change\n",
    "    # code goes here\n",
    "    \n",
    "    # 2. tournament selection for the rest of the population\n",
    "    # code goes here\n",
    "    \n",
    "    return selectionResults"
   ]
  },
  {
   "cell_type": "markdown",
   "metadata": {},
   "source": [
    "Create mating pool to start the crossover operation. "
   ]
  },
  {
   "cell_type": "code",
   "execution_count": null,
   "metadata": {},
   "outputs": [],
   "source": [
    "def matingPool(population, selectionResults):\n",
    "    \"\"\"\n",
    "    :brief: Creates mates of individuals to breed (preparing for the crossover)\n",
    "\n",
    "    :param population: list of lists of Ops enums \n",
    "    :param selectionResults: list of tuples of ints and floats (the ints stand for indices and floats are fitnesses)\n",
    "    :return: list of tuples of ints and floats (the ints stand for indices and floats are fitnesses)\n",
    "    \"\"\"\n",
    "    matingpool = []\n",
    "    for i in range(0, len(selectionResults)):\n",
    "        index = selectionResults[i]\n",
    "        matingpool.append(population[index])\n",
    "    return matingpool"
   ]
  },
  {
   "cell_type": "markdown",
   "metadata": {},
   "source": [
    "Create a crossover function for two parents to create one child. Feel free to experiment with different kinds of crossover functions or use the one that is given below. \n",
    "\n",
    "**You are higly encouraged to implement a different crossover function than the one found in the pdf link to better understand the logic behind this operator**"
   ]
  },
  {
   "cell_type": "code",
   "execution_count": null,
   "metadata": {},
   "outputs": [],
   "source": [
    "def breed(parent1, parent2):\n",
    "    \"\"\"\n",
    "    :brief: Performs the crossover between two individuals of the population\n",
    "\n",
    "    :param parent1: list of lists of Ops enums \n",
    "    :param parent2: list of lists of Ops enums \n",
    "\n",
    "    :return: list of lists of Ops enums\n",
    "    \"\"\"\n",
    "    # TODO: Implement a crossover operation. Feel free to make it as complex\n",
    "    #       as you want \n",
    "    child = []\n",
    "    \n",
    "    # 1. given 2 parents create an offspring\n",
    "    # code goes here\n",
    "    \n",
    "    return child"
   ]
  },
  {
   "cell_type": "markdown",
   "metadata": {},
   "source": [
    "Create function to apply the crossover over full mating pool."
   ]
  },
  {
   "cell_type": "code",
   "execution_count": null,
   "metadata": {},
   "outputs": [],
   "source": [
    "def breedPopulation(matingpool, eliteSize):\n",
    "    \"\"\"\n",
    "    :brief: Creates mates of individuals to breed (preparing for the crossover). Notice that we cross the best\n",
    "            individual with the worst the second best to the second worst and so on.\n",
    "\n",
    "    :param matingpool: list of tuples of ints and floats (the ints stand for indices and floats are fitnesses)\n",
    "    :param eliteSize: int (the number of elite individuals that should be preserved)\n",
    "    :return: list of lists of Ops enums (the crossed population)\n",
    "    \"\"\"\n",
    "    children = []\n",
    "    length = len(matingpool) - eliteSize\n",
    "    pool = random.sample(matingpool, len(matingpool))\n",
    "\n",
    "    for i in range(0,eliteSize):\n",
    "        children.append(matingpool[i])\n",
    "    \n",
    "    for i in range(0, length):\n",
    "        child = breed(pool[i], pool[len(matingpool)-i-1])\n",
    "        children.append(child)\n",
    "\n",
    "    return children"
   ]
  },
  {
   "cell_type": "markdown",
   "metadata": {},
   "source": [
    "Create function to mutate a single route. It is suggested that you use a different logic to mutate the individuals than the one found on the linked github page. \n",
    "\n",
    "**Hint:** Use a mutation function that might alter the length of the trajectory that is selected for mutation. This will give you a more diverse candidate solution population and might allow for faster convergence. You may also think about mutation functions that are constructive, i.e., they might mutate only the moves that correspond to collisions."
   ]
  },
  {
   "cell_type": "code",
   "execution_count": null,
   "metadata": {},
   "outputs": [],
   "source": [
    "def mutate(individual, mutationRate):\n",
    "    \"\"\"\n",
    "    :brief: Generating a mutation for the selected individual if it is randomly selected\n",
    "\n",
    "    :param individual: list of Ops enums\n",
    "    :param mutationRate: float (probability that one individual will be selected for mutation)\n",
    "    :return: list of Ops enums (either the mutated individual or the original)\n",
    "    \"\"\"\n",
    "    # TODO: Implement a mutation logic that will guide your search.\n",
    "    #       Think about it carefully. Simply generating random routes\n",
    "    #       will probably not work as well as you imagine !\n",
    "    \n",
    "    # code goes here\n",
    "    return individual"
   ]
  },
  {
   "cell_type": "markdown",
   "metadata": {},
   "source": [
    "Create function to apply mutation over entire population.\n",
    "\n",
    "Contrary to the implementation that can be found on the linked github page, it is recommended that you **do not** use the elites of the population in the mutation operation. This will completely preserve them from generation to generation and will prevent oscilations in the best fitness per generation. Experiment with this choice to see if your algorithm works better. "
   ]
  },
  {
   "cell_type": "code",
   "execution_count": null,
   "metadata": {},
   "outputs": [],
   "source": [
    "def mutatePopulation(population, mutationRate, eliteSize):\n",
    "    \"\"\"\n",
    "    :brief: Applies the mutations operation to the population and preserves the elites\n",
    "\n",
    "    :param population: list of lists of Ops enums (the population)\n",
    "    :param mutationRate: float (probability that one individual will be selected for mutation)\n",
    "    :param eliteSize: int (the number of elite individuals that should be preserved)\n",
    "    :return: list of lists of Ops enums (the mutated population)\n",
    "    \"\"\"\n",
    "    mutatedPop = []\n",
    "\n",
    "    for ind in range(0, eliteSize):\n",
    "        mutatedPop.append(population[ind])\n",
    "\n",
    "    for ind in range(eliteSize, len(population)):\n",
    "        mutatedInd = mutate(population[ind], mutationRate)\n",
    "        mutatedPop.append(mutatedInd)\n",
    "    return mutatedPop"
   ]
  },
  {
   "cell_type": "markdown",
   "metadata": {},
   "source": [
    "Put all steps together to create the next generation. Here you are listing the three basic steps of any genetic algorithm, namely: 1) selection, 2) crossover, and 3) mutation. "
   ]
  },
  {
   "cell_type": "code",
   "execution_count": null,
   "metadata": {},
   "outputs": [],
   "source": [
    "def nextGeneration(currentGen, eliteSize, mutationRate):\n",
    "    \"\"\"\n",
    "    :brief: The GA generation step. It will serially perform selection, crossover and mutation \n",
    "\n",
    "    :param currentGen: list of lists of Ops enums (the population as defined in the previous generation)\n",
    "    :param eliteSize: int (the number of elite individuals that should be preserved)\n",
    "    :param mutationRate: float (probability that one individual will be selected for mutation)\n",
    "    :return: list of lists of Ops enums (the population after selecting, crossing and mutating)\n",
    "    \"\"\"\n",
    "    popRanked = rankRoutes(currentGen)\n",
    "    selectionResults = selection(popRanked, eliteSize)\n",
    "    matingpool = matingPool(currentGen, selectionResults)\n",
    "    children = breedPopulation(matingpool, eliteSize)\n",
    "    nextGeneration = mutatePopulation(children, mutationRate, eliteSize)\n",
    "    return nextGeneration"
   ]
  },
  {
   "cell_type": "markdown",
   "metadata": {},
   "source": [
    "## Running the genetic algorithm"
   ]
  },
  {
   "cell_type": "markdown",
   "metadata": {},
   "source": [
    "Run the genetic algorithm"
   ]
  },
  {
   "cell_type": "code",
   "execution_count": null,
   "metadata": {},
   "outputs": [],
   "source": [
    "def geneticAlgorithm(population, popSize, eliteSize, mutationRate, generations):\n",
    "    \"\"\"\n",
    "    :brief: The GA main loop that will iterate until the selected number of generation has been reached\n",
    "\n",
    "    :param population: list Ops enums (the initial movement primitives that are available)\n",
    "    :param popSize: int (the number of individuals to evolve)\n",
    "    :param eliteSize: int (the number of elite individuals that should be preserved)\n",
    "    :param mutationRate: float (probability that one individual will be selected for mutation)\n",
    "    :param generations: int (the number of generations to run)\n",
    "    :return: tuple of list Ops enums and float  (the best series of moves and corresponding fitness found by the GA)\n",
    "    \"\"\"\n",
    "    pop = initialPopulation(popSize, population)\n",
    "    progress = []\n",
    "    progress.append(rankRoutes(pop)[0][1])\n",
    "\n",
    "    for i in range(0, generations):\n",
    "        pop = nextGeneration(pop, eliteSize, mutationRate)\n",
    "        progress.append(rankRoutes(pop)[0][1])\n",
    "\n",
    "    bestRouteIndex = rankRoutes(pop)[0][0]\n",
    "    bestRoute = pop[bestRouteIndex]\n",
    "    \n",
    "    return (bestRoute, rankRoutes(pop)[0][1], progress)"
   ]
  },
  {
   "cell_type": "markdown",
   "metadata": {},
   "source": [
    "Run the function with our assumptions to see how distance has improved in each generation"
   ]
  },
  {
   "cell_type": "code",
   "execution_count": null,
   "metadata": {
    "scrolled": false
   },
   "outputs": [],
   "source": [
    "fitness_hist = []\n",
    "progress_hist = []\n",
    "for i in range(5):\n",
    "    # TODO: Pick parameters for your algorithm.\n",
    "    #       Determine by trial and error which parameters allow for \n",
    "    #       convergence and at the same time do not require for \n",
    "    #       redundant generations\n",
    "    # 1. Change the \"Some int\" / \"Some float\" comments to ints / floats\n",
    "    bestRoute, fitness, progress = geneticAlgorithm(\n",
    "                    population=movements, \n",
    "                    popSize=\"Some int\", \n",
    "                    eliteSize=\"Some int\", \n",
    "                    mutationRate=\"Some float\", # for this problem you might need to use a slightly high rate \n",
    "                    generations=\"Some int\")\n",
    "    fitness_hist.append(fitness)\n",
    "    progress_hist.append(progress)\n",
    "    print('Run ' + str(i) + ' got us a fitness of ' + str(fitness_hist[-1]) + ' for the route:')\n",
    "print('Average fitness: ' + str(np.mean(fitness_hist)))"
   ]
  },
  {
   "cell_type": "markdown",
   "metadata": {},
   "source": [
    "Once the execution of the genetic algorithm runs has finished you can visualise the results as follows:"
   ]
  },
  {
   "cell_type": "code",
   "execution_count": null,
   "metadata": {},
   "outputs": [],
   "source": [
    "# plot the fitness progress over each generation\n",
    "plt.figure(figsize=(5, 5))\n",
    "plt.plot(np.array(progress_hist).T)\n",
    "plt.ylabel('Fitness')\n",
    "plt.xlabel('Generation')\n",
    "ax = plt.gca()\n",
    "ax.set_title('Fitness progress for all runs')\n",
    "\n",
    "for i in range(len(fitness_hist)):\n",
    "    # plot the fitness progress over each generation\n",
    "    plt.figure(figsize=(5, 5))\n",
    "    plt.plot(progress)\n",
    "    plt.ylabel('Fitness')\n",
    "    plt.xlabel('Generation')\n",
    "    ax = plt.gca()\n",
    "    ax.set_title('Fitness progress for run no. ' + str(i))\n",
    "    \n",
    "    printMap(occupancyList, route=bestRoute, start=start)\n",
    "    print('')"
   ]
  },
  {
   "cell_type": "markdown",
   "metadata": {},
   "source": [
    "## But are GAs more than just random search?\n",
    "\n",
    "We run the genetic algorithm with a mutation rate of 100%. In principle this is very close to performing a random search for the optimal solution. How does this compare to the GA above? Which method converges faster?\n",
    "\n",
    "**Beware** this might take some time to execute to the constant random generation of solutions"
   ]
  },
  {
   "cell_type": "code",
   "execution_count": null,
   "metadata": {
    "scrolled": true
   },
   "outputs": [],
   "source": [
    "def mutate(individual, mutationRate):\n",
    "    \"\"\"\n",
    "    :brief: Generating a completely new and random solutions \n",
    "\n",
    "    :param individual: list of Ops enums\n",
    "    :param mutationRate: float (probability that one individual will be selected for mutation)\n",
    "    :return: list of Ops enums (either the mutated individual or the original)\n",
    "    \"\"\"\n",
    "    # TODO: create a completely random individual without taking into\n",
    "    #       account the contentes of the previous route\n",
    "    # code goes here\n",
    "    return individual\n",
    "\n",
    "\n",
    "def nextGeneration(currentGen, eliteSize, mutationRate):\n",
    "    \"\"\"\n",
    "    :brief: The GA generation step. It will serially perform selection, crossover and mutation \n",
    "\n",
    "    :param currentGen: list of lists of Ops enums (the population as defined in the previous generation)\n",
    "    :param eliteSize: int (the number of elite individuals that should be preserved)\n",
    "    :param mutationRate: float (probability that one individual will be selected for mutation)\n",
    "    :return: list of lists of Ops enums (the population after selecting, crossing and mutating)\n",
    "    \"\"\"\n",
    "    nextGeneration = mutatePopulation(currentGen, mutationRate, eliteSize)\n",
    "    return nextGeneration\n",
    "\n",
    "\n",
    "def geneticAlgorithm(population, popSize, eliteSize, mutationRate, generations):\n",
    "    \"\"\"\n",
    "    :brief: The GA main loop that will iterate until the selected number of generation has been reached\n",
    "\n",
    "    :param population: list Ops enums (the initial movement primitives that are available)\n",
    "    :param popSize: int (the number of individuals to evolve)\n",
    "    :param eliteSize: int (the number of elite individuals that should be preserved)\n",
    "    :param mutationRate: float (probability that one individual will be selected for mutation)\n",
    "    :param generations: int (the number of generations to run)\n",
    "    :return: tuple of list Ops enums and float  (the best series of moves and corresponding fitness found by the GA)\n",
    "    \"\"\"\n",
    "    pop = initialPopulation(popSize, population)\n",
    "    progress = []\n",
    "    progress.append(rankRoutes(pop)[0][1])\n",
    "\n",
    "    for i in range(0, generations):\n",
    "        pop = nextGeneration(pop, eliteSize, mutationRate)\n",
    "        progress.append(rankRoutes(pop)[0][1])\n",
    "\n",
    "    bestRouteIndex = rankRoutes(pop)[0][0]\n",
    "    bestRoute = pop[bestRouteIndex]\n",
    "        \n",
    "    return (bestRoute, rankRoutes(pop)[0][1], progress)\n",
    "\n",
    "fitness_hist = []\n",
    "progress_hist = []\n",
    "for i in range(5):\n",
    "    # TODO: Update the parameters to match the GA above and allow\n",
    "    #       for a fair comparison \n",
    "    # 1. Change the \"Some int\" comments to ints\n",
    "    bestRoute, fitness, progress = geneticAlgorithm(\n",
    "                    population=movements, \n",
    "                    popSize=\"Some int\",     # same as your first GA\n",
    "                    eliteSize=1,            # we only preserve the best since we are mutating every time \n",
    "                    mutationRate=1.0,       # always mutate (i.e., random search) \n",
    "                    generations=\"Some int\") # same as your first GA\n",
    "    fitness_hist.append(fitness)\n",
    "    progress_hist.append(progress)\n",
    "    print('Run ' + str(i) + ' got us a fitness of ' + str(fitness_hist[-1]) + ' for the route:')\n",
    "print('Average fitness: ' + str(np.mean(fitness_hist)))\n",
    "\n",
    "# plot the fitness progress over each generation\n",
    "plt.figure(figsize=(5, 5))\n",
    "plt.plot(np.array(progress_hist).T)\n",
    "plt.ylabel('Fitness')\n",
    "plt.xlabel('Generation')\n",
    "ax = plt.gca()\n",
    "ax.set_title('Fitness progress for all runs')\n",
    "\n",
    "for i in range(len(fitness_hist)):\n",
    "    # plot the fitness progress over each generation\n",
    "    plt.figure(figsize=(5, 5))\n",
    "    plt.plot(progress)\n",
    "    plt.ylabel('Fitness')\n",
    "    plt.xlabel('Generation')\n",
    "    ax = plt.gca()\n",
    "    ax.set_title('Fitness progress for run no. ' + str(i))\n",
    "    \n",
    "    printMap(occupancyList, route=bestRoute, start=start)\n",
    "    print('')"
   ]
  },
  {
   "cell_type": "markdown",
   "metadata": {},
   "source": [
    "# Particle Filters and Bayesian Filters\n",
    "\n",
    "Now just forget for a moment the genetic algorithm and look at bayesian filtersand particle filters. How is the probability grid of a bayesian filter translatedwhen using a particle filter? What advantage can you see in using particle filtersin respect to bayesian filters? Give an example."
   ]
  },
  {
   "cell_type": "markdown",
   "metadata": {},
   "source": [
    "# Comparing the GA and the Particle Filter\n",
    "\n",
    "Explain the similarities that exist between genetic algorithm and particle filter:\n",
    "\n",
    "\n",
    "1. How is the fitness function of genetic algorithms replaced in particle filters?\n",
    "\n",
    "\n",
    "2. How is the population generated?\n",
    "\n",
    "\n",
    "3. Which genetic operators (mutation, crossover) are still used in the particlefilter?"
   ]
  },
  {
   "cell_type": "code",
   "execution_count": null,
   "metadata": {},
   "outputs": [],
   "source": []
  }
 ],
 "metadata": {
  "hide_input": false,
  "kernelspec": {
   "display_name": "Python 3",
   "language": "python",
   "name": "python3"
  },
  "language_info": {
   "codemirror_mode": {
    "name": "ipython",
    "version": 3
   },
   "file_extension": ".py",
   "mimetype": "text/x-python",
   "name": "python",
   "nbconvert_exporter": "python",
   "pygments_lexer": "ipython3",
   "version": "3.7.3"
  },
  "toc": {
   "base_numbering": 1,
   "nav_menu": {},
   "number_sections": true,
   "sideBar": true,
   "skip_h1_title": false,
   "title_cell": "Table of Contents",
   "title_sidebar": "Contents",
   "toc_cell": true,
   "toc_position": {},
   "toc_section_display": true,
   "toc_window_display": true
  }
 },
 "nbformat": 4,
 "nbformat_minor": 2
}
