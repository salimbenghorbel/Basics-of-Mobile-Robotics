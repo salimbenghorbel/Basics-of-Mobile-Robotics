{
 "cells": [
  {
   "cell_type": "markdown",
   "metadata": {},
   "source": [
    "\n",
    "<div style=\"border:1px solid black; padding:20px 20px;text-align: justify;text-justify: inter-word\">\n",
    "    <strong>Exercise Session 6 - Odometry and Localisation<br/> Autumn 2020 <br/> Duration : 4 hours (2 in session + 2 at home)</strong><br/><br/>\n",
    "    <span style=\"text-decoration:underline;font-weight:bold;\">How to use this notebook?</span><br/>\n",
    "    This notebook is made of text cells and code cells. The code cells have to be <strong>executed</strong> to see the result of the program. To execute a cell, simply select it and click on the \"play\" button (<span style=\"font: bold 12px/30px Arial, serif;\">&#9658;</span>) in the tool bar just above the notebook, or type <code>shift + enter</code>. It is important to execute the code cells in their order of appearance in the notebook.<br/>\n",
    "You can make use of the table of contents to navigate easily between sections.\n",
    "</div>\n",
    "\n",
    "<br/>\n",
    "\n",
    "<div style=\"justify;text-justify: inter-word\">\n",
    "So that you may familiarise with the notebooks and the basic python syntax, the exercises are provided in notebook form and whenever there are any calculations to be made, we encourage you to do them by code. Also, if you want to take notes, we encourage you to use the markdown or Raw NBConvert cells. \n",
    "</div>"
   ]
  },
  {
   "cell_type": "markdown",
   "metadata": {
    "toc": true
   },
   "source": [
    "<h1>Table of Contents<span class=\"tocSkip\"></span></h1>\n",
    "<div class=\"toc\"><ul class=\"toc-item\"><li><span><a href=\"#Learning-Goals\" data-toc-modified-id=\"Learning-Goals-1\"><span class=\"toc-item-num\">1&nbsp;&nbsp;</span>Learning Goals</a></span></li><li><span><a href=\"#Odometry\" data-toc-modified-id=\"Odometry-2\"><span class=\"toc-item-num\">2&nbsp;&nbsp;</span>Odometry</a></span><ul class=\"toc-item\"><li><span><a href=\"#Introduction-and-goal-of-odometry-exercise\" data-toc-modified-id=\"Introduction-and-goal-of-odometry-exercise-2.1\"><span class=\"toc-item-num\">2.1&nbsp;&nbsp;</span>Introduction and goal of odometry exercise</a></span></li><li><span><a href=\"#Move-and-turn\" data-toc-modified-id=\"Move-and-turn-2.2\"><span class=\"toc-item-num\">2.2&nbsp;&nbsp;</span>Move and turn</a></span></li></ul></li><li><span><a href=\"#Localisation\" data-toc-modified-id=\"Localisation-3\"><span class=\"toc-item-num\">3&nbsp;&nbsp;</span>Localisation</a></span><ul class=\"toc-item\"><li><span><a href=\"#Computing-the-probabilities\" data-toc-modified-id=\"Computing-the-probabilities-3.1\"><span class=\"toc-item-num\">3.1&nbsp;&nbsp;</span>Computing the probabilities</a></span></li><li><span><a href=\"#Implementation-on-Thymio\" data-toc-modified-id=\"Implementation-on-Thymio-3.2\"><span class=\"toc-item-num\">3.2&nbsp;&nbsp;</span>Implementation on Thymio</a></span></li></ul></li></ul></div>"
   ]
  },
  {
   "cell_type": "markdown",
   "metadata": {},
   "source": [
    "# Learning Goals\n",
    "\n",
    "\n",
    "- Program Thymio to observe odometry errors. \n",
    "\n",
    "\n",
    "- Compute a probabilistic localisation with sensing and motion uncertainties. \n",
    "\n",
    "\n",
    "- Program a simple localisation algorithm that takes into account sensing and motion uncertainties.\n"
   ]
  },
  {
   "cell_type": "markdown",
   "metadata": {},
   "source": [
    "# Odometry\n",
    "\n",
    "## Introduction and goal of odometry exercise\n",
    "\n",
    "Odometry is an essential component of robot localisation, but is subject to several problems, linkingtheory and practice. The goal of this exercise is to observe several of these problems by implementinga very simple trajectory using the Thymio robot.\n",
    "\n",
    "## Move and turn\n",
    "\n",
    "\n",
    "Implement on Thymio a program that makes it continuously turn and move forward:\n",
    "\n",
    "\n",
    "    1. Turn 360 + 180 degrees\n",
    "\n",
    "\n",
    "    2. Move forward a distance corresponding to the movement the wheel did during the turning step.\n",
    "\n",
    "\n",
    "Of course this movement needs to be carefully calibrated for your specific robot. Therefore first plan and implement a calibration procedure.\n",
    "\n",
    "\n",
    "Place a pencil in the central hole of Thymio and draw the trajectory. Please note that this will require two A4 sheets of paper. \n",
    "\n",
    "\n",
    "Observe the result, iterate to improve the result (do you need other calibrations?) and comment the various errors you correct.\n"
   ]
  },
  {
   "cell_type": "markdown",
   "metadata": {},
   "source": [
    "# Localisation\n",
    "\n",
    "The goal of this second part is to practice the localisation as explained during the course.\n",
    "\n",
    "## Computing the probabilities\n",
    "\n",
    "\n",
    "If you do not feel confident with the explanation given during the course, do again all computations, for instance in a spreadsheet.\n",
    "\n",
    "\n",
    "Consider the map below with the initial position of the robot, an initial probability distribution, and its movement restricted to moving from left to right. In the motion model, there is an error of motion with a probability of $10\\%$ of incorrect motion to the neighbour case, and therefore $80\\%$ or correct displacement. For the perception model, consider a probability of wrong measurement of $0.25$, meaning that if the ground is dark there is a probability of $25\\%$ of reading a light color and viceversa.\n",
    "\n",
    "\n",
    "Compute using a Bayes filter (also called Markov localisation):\n",
    "\n",
    "\n",
    "- The prediction probabilities and measurement update based on the given movement (one step), assuming a correct movement and measurement. Give the final probability distribution after this step.\n",
    "\n",
    "Complete as many rows as needed, indicating concisely what is performed on the left.\n",
    "\n",
    "![Localisation](Images/localization.png)"
   ]
  },
  {
   "cell_type": "markdown",
   "metadata": {},
   "source": [
    "## Implementation on Thymio\n",
    "\n",
    "Implement the localisation algorithm on the Thymio robot. You can simplify the program by moving yourself the robot from one position to the other and pressing a button when you are ready to make the measurement, simplifying the motion control of the robot and focusing on the computation of the probability. Use the same example as given in the course, based on a set of grey levels on the ground. The corresponding A3 ground is provided under `localization-map.pdf`. \n",
    "\n",
    "![Map](Images/map-robot.png)"
   ]
  },
  {
   "cell_type": "code",
   "execution_count": null,
   "metadata": {},
   "outputs": [],
   "source": []
  }
 ],
 "metadata": {
  "hide_input": false,
  "kernelspec": {
   "display_name": "Python 3",
   "language": "python",
   "name": "python3"
  },
  "language_info": {
   "codemirror_mode": {
    "name": "ipython",
    "version": 3
   },
   "file_extension": ".py",
   "mimetype": "text/x-python",
   "name": "python",
   "nbconvert_exporter": "python",
   "pygments_lexer": "ipython3",
   "version": "3.7.5"
  },
  "toc": {
   "base_numbering": 1,
   "nav_menu": {},
   "number_sections": true,
   "sideBar": true,
   "skip_h1_title": false,
   "title_cell": "Table of Contents",
   "title_sidebar": "Contents",
   "toc_cell": true,
   "toc_position": {},
   "toc_section_display": true,
   "toc_window_display": true
  }
 },
 "nbformat": 4,
 "nbformat_minor": 2
}
