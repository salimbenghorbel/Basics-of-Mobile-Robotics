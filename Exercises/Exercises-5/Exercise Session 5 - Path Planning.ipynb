{
 "cells": [
  {
   "cell_type": "markdown",
   "metadata": {
    "ExecuteTime": {
     "end_time": "2020-05-08T22:05:05.405241Z",
     "start_time": "2020-05-08T22:05:05.397090Z"
    }
   },
   "source": [
    "\n",
    "<div style=\"border:1px solid black; padding:20px 20px;text-align: justify;text-justify: inter-word\">\n",
    "    <strong>Exercise Session 5 - Path Planning<br/> Autumn 2020 <br/> Duration : 4 hours (2 in session + 2 at home)</strong><br/><br/>\n",
    "    <span style=\"text-decoration:underline;font-weight:bold;\">How to use this notebook?</span><br/>\n",
    "    This notebook is made of text cells and code cells. The code cells have to be <strong>executed</strong> to see the result of the program. To execute a cell, simply select it and click on the \"play\" button (<span style=\"font: bold 12px/30px Arial, serif;\">&#9658;</span>) in the tool bar just above the notebook, or type <code>shift + enter</code>. It is important to execute the code cells in their order of appearance in the notebook.<br/>\n",
    "You can make use of the table of contents to navigate easily between sections.\n",
    "</div>\n",
    "\n",
    "<br/>\n",
    "\n",
    "<div style=\"justify;text-justify: inter-word\">\n",
    "So that you may familiarise with the notebooks and the basic python syntax, the exercises are provided in notebook form and whenever there are any calculations to be made, we encourage you to do them by code. Also, if you want to take notes, we encourage you to use the markdown or Raw NBConvert cells. \n",
    "</div>"
   ]
  },
  {
   "cell_type": "markdown",
   "metadata": {
    "toc": true
   },
   "source": [
    "<h1>Table of Contents<span class=\"tocSkip\"></span></h1>\n",
    "<div class=\"toc\"><ul class=\"toc-item\"><li><span><a href=\"#Learning-Goals\" data-toc-modified-id=\"Learning-Goals-1\"><span class=\"toc-item-num\">1&nbsp;&nbsp;</span>Learning Goals</a></span></li><li><span><a href=\"#Requirements\" data-toc-modified-id=\"Requirements-2\"><span class=\"toc-item-num\">2&nbsp;&nbsp;</span>Requirements</a></span></li><li><span><a href=\"#Understanding-Path-Planning-on-Paper\" data-toc-modified-id=\"Understanding-Path-Planning-on-Paper-3\"><span class=\"toc-item-num\">3&nbsp;&nbsp;</span>Understanding Path Planning on Paper</a></span><ul class=\"toc-item\"><li><span><a href=\"#Introduction-to-path-planning\" data-toc-modified-id=\"Introduction-to-path-planning-3.1\"><span class=\"toc-item-num\">3.1&nbsp;&nbsp;</span>Introduction to path planning</a></span></li><li><span><a href=\"#Dijkstra's-Algorithm\" data-toc-modified-id=\"Dijkstra's-Algorithm-3.2\"><span class=\"toc-item-num\">3.2&nbsp;&nbsp;</span>Dijkstra's Algorithm</a></span></li><li><span><a href=\"#A*-Algorithm\" data-toc-modified-id=\"A*-Algorithm-3.3\"><span class=\"toc-item-num\">3.3&nbsp;&nbsp;</span>A* Algorithm</a></span></li><li><span><a href=\"#Path-Planning-in-a-Line-Based-Map\" data-toc-modified-id=\"Path-Planning-in-a-Line-Based-Map-3.4\"><span class=\"toc-item-num\">3.4&nbsp;&nbsp;</span>Path Planning in a Line-Based Map</a></span></li></ul></li><li><span><a href=\"#Implementing-the-A*-Algorithm\" data-toc-modified-id=\"Implementing-the-A*-Algorithm-4\"><span class=\"toc-item-num\">4&nbsp;&nbsp;</span>Implementing the A* Algorithm</a></span><ul class=\"toc-item\"><li><span><a href=\"#Imports\" data-toc-modified-id=\"Imports-4.1\"><span class=\"toc-item-num\">4.1&nbsp;&nbsp;</span>Imports</a></span></li><li><span><a href=\"#Helper-Functions\" data-toc-modified-id=\"Helper-Functions-4.2\"><span class=\"toc-item-num\">4.2&nbsp;&nbsp;</span>Helper Functions</a></span></li><li><span><a href=\"#Map-Initialisation\" data-toc-modified-id=\"Map-Initialisation-4.3\"><span class=\"toc-item-num\">4.3&nbsp;&nbsp;</span>Map Initialisation</a></span></li><li><span><a href=\"#Implementing-the-Algorithm\" data-toc-modified-id=\"Implementing-the-Algorithm-4.4\"><span class=\"toc-item-num\">4.4&nbsp;&nbsp;</span>Implementing the Algorithm</a></span></li></ul></li></ul></div>"
   ]
  },
  {
   "cell_type": "markdown",
   "metadata": {},
   "source": [
    "---\n",
    "\n",
    "# Learning Goals\n",
    "\n",
    "\n",
    "\n",
    "- Path planning algorithms analysis and implementation.\n",
    "\n",
    "\n",
    "- Understanding graph search and path planning on paper. \n",
    "\n",
    "\n",
    "- Implementing a path planning algorithm.\n",
    "\n",
    "\n",
    "# Requirements\n",
    "\n",
    "- The printed ``grid1.pdf`` or the `grid-path-planning.xlsx` for the Dijkstra and A* algorithms depending on whether you prefer working on a spreadsheet or on paper. \n",
    "\n",
    "![Grid1](Images/grid1.png)\n",
    "\n",
    "\n",
    "- The printed ``visibility.pdf`` for the visibility graph\n",
    "\n",
    "\n",
    "\n",
    "![visibility](Images/visibility.png)"
   ]
  },
  {
   "cell_type": "markdown",
   "metadata": {},
   "source": [
    "# Understanding Path Planning on Paper\n",
    "\n",
    "For the paper based algorithms, you will need the files located in the Paper folder : \n",
    "\n",
    "- ``grid1.pdf`` or `grid-path-planning.xlsx` for the Dijkstra and A* algorithms depending on whether you prefer working on a spreadsheet or on paper. \n",
    "\n",
    "- ``visibility.pdf`` for the visibility graph\n",
    "\n",
    "\n",
    "## Introduction to path planning\n",
    "\n",
    "Once a robot has a map, it is essential to be able to plan a path to go from one point to another. The techniques used to find the best path depend on the type of map and of the type of path that one wants to obtain. In many cases, the maps are transformed into graphs and the path search is transformed in a graph search.\n",
    "\n",
    "\n",
    "## Dijkstra's Algorithm\n",
    "\n",
    "Apply the Dijkstra’s algorithm on paper on the map of the Figure below using a Manhattan distance. An excel file is provided in the Pages folder for those who prefer to apply the algorithm on a predefined table.\n",
    "\n",
    "![Grid1](Images/grid1.png)\n",
    "\n"
   ]
  },
  {
   "cell_type": "markdown",
   "metadata": {},
   "source": [
    "## A* Algorithm\n",
    "\n",
    "Apply the A* algorithm on paper on the map of the previous exercise using a Manhattan distance from the source for the motion cost and the Manhattan distance to the goal (without obstacles) as heuristic function. The same excel file as for the previous exercice can be used here.\n"
   ]
  },
  {
   "cell_type": "markdown",
   "metadata": {},
   "source": [
    "## Path Planning in a Line-Based Map\n",
    "\n",
    "The previous exercises were done on an occupancy grid map. The grid map is already a form of graph, and the application of the Dijkstra’s algorithm or the A* algorithm is immediate.\n",
    "\n",
    "\n",
    "Please consider a line-based map and the whole process from graph generation, to path planning including metric information.\n",
    "\n",
    "\n",
    "Apply one of the algorithms seen in the course to find the best path between the start (S) and goal (G) positions of Figure below. Use only algorithms that can be processed by a computer and show clearly each step.\n",
    "\n",
    "![visibility](Images/visibility.png)"
   ]
  },
  {
   "cell_type": "markdown",
   "metadata": {},
   "source": [
    "# Implementing the A* Algorithm\n",
    "\n",
    "By this point, you should have a better idea regarding how the A* algorithm works. In this exercise you are going to implement the A* algorithm. The objective is to compute and display the optimal path as well as the nodes that were visited during the search process. prints with \"TODO\" in them will be located where you need to add  code. \n",
    "\n",
    "\n",
    "##  Imports\n",
    "Let's start by importing the libraries we will need for this exercise. \n"
   ]
  },
  {
   "cell_type": "code",
   "execution_count": 1,
   "metadata": {
    "ExecuteTime": {
     "end_time": "2020-09-02T10:26:07.884289Z",
     "start_time": "2020-09-02T10:26:07.501814Z"
    }
   },
   "outputs": [],
   "source": [
    "import math\n",
    "import numpy as np\n",
    "import matplotlib.pyplot as plt\n",
    "from matplotlib import colors\n",
    "\n",
    "%matplotlib inline"
   ]
  },
  {
   "cell_type": "markdown",
   "metadata": {},
   "source": [
    "## Helper Functions"
   ]
  },
  {
   "cell_type": "code",
   "execution_count": 2,
   "metadata": {
    "ExecuteTime": {
     "end_time": "2020-09-02T10:26:07.891999Z",
     "start_time": "2020-09-02T10:26:07.886162Z"
    }
   },
   "outputs": [
    {
     "name": "stdout",
     "output_type": "stream",
     "text": [
      "This variable is a <class 'numpy.ndarray'>\n",
      "\n",
      "\n",
      "The shape is (1,)\n",
      "\n",
      "\n",
      "The data contained in the variable is : \n",
      "[1]\n",
      "\n",
      "\n",
      "The elements that can be accessed in the variable are :\n",
      "\n",
      "['T', '__abs__', '__add__', '__and__', '__array__', '__array_finalize__', '__array_function__', '__array_interface__', '__array_prepare__', '__array_priority__', '__array_struct__', '__array_ufunc__', '__array_wrap__', '__bool__', '__class__', '__complex__', '__contains__', '__copy__', '__deepcopy__', '__delattr__', '__delitem__', '__dir__', '__divmod__', '__doc__', '__eq__', '__float__', '__floordiv__', '__format__', '__ge__', '__getattribute__', '__getitem__', '__gt__', '__hash__', '__iadd__', '__iand__', '__ifloordiv__', '__ilshift__', '__imatmul__', '__imod__', '__imul__', '__index__', '__init__', '__init_subclass__', '__int__', '__invert__', '__ior__', '__ipow__', '__irshift__', '__isub__', '__iter__', '__itruediv__', '__ixor__', '__le__', '__len__', '__lshift__', '__lt__', '__matmul__', '__mod__', '__mul__', '__ne__', '__neg__', '__new__', '__or__', '__pos__', '__pow__', '__radd__', '__rand__', '__rdivmod__', '__reduce__', '__reduce_ex__', '__repr__', '__rfloordiv__', '__rlshift__', '__rmatmul__', '__rmod__', '__rmul__', '__ror__', '__rpow__', '__rrshift__', '__rshift__', '__rsub__', '__rtruediv__', '__rxor__', '__setattr__', '__setitem__', '__setstate__', '__sizeof__', '__str__', '__sub__', '__subclasshook__', '__truediv__', '__xor__', 'all', 'any', 'argmax', 'argmin', 'argpartition', 'argsort', 'astype', 'base', 'byteswap', 'choose', 'clip', 'compress', 'conj', 'conjugate', 'copy', 'ctypes', 'cumprod', 'cumsum', 'data', 'diagonal', 'dot', 'dtype', 'dump', 'dumps', 'fill', 'flags', 'flat', 'flatten', 'getfield', 'imag', 'item', 'itemset', 'itemsize', 'max', 'mean', 'min', 'nbytes', 'ndim', 'newbyteorder', 'nonzero', 'partition', 'prod', 'ptp', 'put', 'ravel', 'real', 'repeat', 'reshape', 'resize', 'round', 'searchsorted', 'setfield', 'setflags', 'shape', 'size', 'sort', 'squeeze', 'std', 'strides', 'sum', 'swapaxes', 'take', 'tobytes', 'tofile', 'tolist', 'tostring', 'trace', 'transpose', 'var', 'view']\n"
     ]
    }
   ],
   "source": [
    "def variable_info(variable):\n",
    "    \"\"\"\n",
    "    Provided a variable, prints the type and content of the variable\n",
    "    \"\"\"\n",
    "    print(\"This variable is a {}\".format(type(variable)))\n",
    "    if type(variable) == np.ndarray:\n",
    "        print(\"\\n\\nThe shape is {}\".format(variable.shape))\n",
    "    print(\"\\n\\nThe data contained in the variable is : \")\n",
    "    print(variable)\n",
    "    print(\"\\n\\nThe elements that can be accessed in the variable are :\\n\")\n",
    "    print(dir(variable))\n",
    "    \n",
    "variable_info(np.array([1]))"
   ]
  },
  {
   "cell_type": "markdown",
   "metadata": {},
   "source": [
    "## Map Initialisation\n",
    "\n",
    "Here is the function provided to create an empty plot of the size max_val with the grid lines in the desired positions. You do not need to understand the details of this function as it is purely related to the plotting."
   ]
  },
  {
   "cell_type": "code",
   "execution_count": 3,
   "metadata": {
    "ExecuteTime": {
     "end_time": "2020-09-02T10:26:07.901208Z",
     "start_time": "2020-09-02T10:26:07.895477Z"
    }
   },
   "outputs": [],
   "source": [
    "def create_empty_plot(max_val):\n",
    "    \"\"\"\n",
    "    Helper function to create a figure of the desired dimensions & grid\n",
    "    \n",
    "    :param max_val: dimension of the map along the x and y dimensions\n",
    "    :return: the fig and ax objects.\n",
    "    \"\"\"\n",
    "    fig, ax = plt.subplots(figsize=(7,7))\n",
    "    \n",
    "    major_ticks = np.arange(0, max_val+1, 5)\n",
    "    minor_ticks = np.arange(0, max_val+1, 1)\n",
    "    ax.set_xticks(major_ticks)\n",
    "    ax.set_xticks(minor_ticks, minor=True)\n",
    "    ax.set_yticks(major_ticks)\n",
    "    ax.set_yticks(minor_ticks, minor=True)\n",
    "    ax.grid(which='minor', alpha=0.2)\n",
    "    ax.grid(which='major', alpha=0.5)\n",
    "    ax.set_ylim([-1,max_val])\n",
    "    ax.set_xlim([-1,max_val])\n",
    "    ax.grid(True)\n",
    "    \n",
    "    return fig, ax"
   ]
  },
  {
   "cell_type": "markdown",
   "metadata": {},
   "source": [
    "To create the map on which we are going to apply the path planning algorithm, we are making use of :\n",
    "- a random generator that creates a map of size max_val x max_val (defined in the previous cell)\n",
    "- a random seed to ensure that the ouptut of the random generator is the same at each iteration\n",
    "- a threshold value which determines for each cell whether it is occupied (i.e. value set to 1) or free (i.e. value set to 0). \n",
    "\n",
    "You can play with these parameters to change the size of the map (map_size), density of the obstacles in the map (threshold) as well as their position (random seed). \n",
    "\n"
   ]
  },
  {
   "cell_type": "code",
   "execution_count": 4,
   "metadata": {
    "ExecuteTime": {
     "end_time": "2020-09-02T10:26:08.406253Z",
     "start_time": "2020-09-02T10:26:07.904200Z"
    }
   },
   "outputs": [
    {
     "data": {
      "image/png": "[encoded data removed]",
      "text/plain": [
       "<Figure size 504x504 with 1 Axes>"
      ]
     },
     "metadata": {
      "needs_background": "light"
     },
     "output_type": "display_data"
    }
   ],
   "source": [
    "#Creating the grid\n",
    "max_val = 50 # Size of the map\n",
    "\n",
    "fig, ax = create_empty_plot(max_val)\n",
    "\n",
    "# Creating the occupancy grid\n",
    "np.random.seed(0) # To guarantee the same outcome on all computers\n",
    "data = np.random.rand(max_val, max_val) * 20 # Create a grid of 50 x 50 random values\n",
    "cmap = colors.ListedColormap(['white', 'red']) # Select the colors with which to display obstacles and free cells\n",
    "\n",
    "# Converting the random values into occupied and free cells\n",
    "limit = 12 \n",
    "occupancy_grid = data.copy()\n",
    "occupancy_grid[data>limit] = 1\n",
    "occupancy_grid[data<=limit] = 0\n",
    "\n",
    "# Displaying the map\n",
    "ax.imshow(occupancy_grid.transpose(), cmap=cmap)\n",
    "plt.title(\"Map : free cells in white, occupied cells in red\");"
   ]
  },
  {
   "cell_type": "markdown",
   "metadata": {},
   "source": [
    "\n",
    "If you use the default values provided to construct the map, then the outcome of the A* algorithm that you should expect to obtain is the following (with the plotting functions already pre-implemented). \n",
    "\n",
    "\n",
    "<img src=\"Images/Astar_sol.png\" alt=\"Drawing\" style=\"width: 500px;\"/>\n",
    "\n",
    "- white cells : free cells\n",
    "- red cells : occupied cells\n",
    "- orange nodes : explored nodes\n",
    "- blue nodes : nodes corresponding to the optimal path\n",
    "- green circle : starting node\n",
    "- purple circle : target node\n"
   ]
  },
  {
   "cell_type": "markdown",
   "metadata": {},
   "source": [
    "## Implementing the Algorithm\n",
    "\n",
    "The following implementation of the A* algorithm is based on the pseudo-code provided here : https://en.wikipedia.org/wiki/A*_search_algorithm#Pseudocode\n",
    "\n",
    "Make sure that you understand the different steps of the algorithm before starting to implement it. You are free however to choose another pseudo-code that corresponds to the A* algorithm implementation if you feel more comfortable with it. "
   ]
  },
  {
   "cell_type": "markdown",
   "metadata": {},
   "source": [
    "The following functions provide the list of possible movements depending on whether you decide to have the algorithm work in a 4 connected or an 8 connected grid ([see here for a table recapitulating the difference](https://edoras.sdsu.edu/doc/matlab/toolbox/images/morph12.html)). You do not need to edit anything in these functions."
   ]
  },
  {
   "cell_type": "code",
   "execution_count": 5,
   "metadata": {
    "ExecuteTime": {
     "end_time": "2020-09-02T10:26:08.414827Z",
     "start_time": "2020-09-02T10:26:08.408418Z"
    }
   },
   "outputs": [],
   "source": [
    "def _get_movements_4n():\n",
    "    \"\"\"\n",
    "    Get all possible 4-connectivity movements (up, down, left right).\n",
    "    :return: list of movements with cost [(dx, dy, movement_cost)]\n",
    "    \"\"\"\n",
    "    return [(1, 0, 1.0),\n",
    "            (0, 1, 1.0),\n",
    "            (-1, 0, 1.0),\n",
    "            (0, -1, 1.0)]\n",
    "\n",
    "def _get_movements_8n():\n",
    "    \"\"\"\n",
    "    Get all possible 8-connectivity movements. Equivalent to get_movements_in_radius(1)\n",
    "    (up, down, left, right and the 4 diagonals).\n",
    "    :return: list of movements with cost [(dx, dy, movement_cost)]\n",
    "    \"\"\"\n",
    "    s2 = math.sqrt(2)\n",
    "    return [(1, 0, 1.0),\n",
    "            (0, 1, 1.0),\n",
    "            (-1, 0, 1.0),\n",
    "            (0, -1, 1.0),\n",
    "            (1, 1, s2),\n",
    "            (-1, 1, s2),\n",
    "            (-1, -1, s2),\n",
    "            (1, -1, s2)]"
   ]
  },
  {
   "cell_type": "markdown",
   "metadata": {},
   "source": [
    "Now you can implement the A* algorithm using either the pseudo-code provided and following the structure below or selecting another one."
   ]
  },
  {
   "cell_type": "code",
   "execution_count": 6,
   "metadata": {
    "ExecuteTime": {
     "end_time": "2020-09-02T10:26:08.425724Z",
     "start_time": "2020-09-02T10:26:08.417215Z"
    }
   },
   "outputs": [],
   "source": [
    "def A_Star(start, goal, h, coords, occupancy_grid, movement_type=\"8N\", max_val=max_val):\n",
    "    \"\"\"\n",
    "    A* for 2D occupancy grid. Finds a path from start to goal.\n",
    "    h is the heuristic function. h(n) estimates the cost to reach goal from node n.\n",
    "    :param start: start node, tuple (x, y)\n",
    "    :param goal_m: goal node, tuple (x, y)\n",
    "    :param occupancy_grid: numpy array containing the map with the obstacles. At each position, \n",
    "                           you either have the number 1 (occupied) or 0 (free)\n",
    "    :param movement: string, select between 4-connectivity ('4N') and 8-connectivity ('8N', default)\n",
    "    :return: a tuple that contains: (the resulting path in meters, the resulting path in data array indices)\n",
    "    \"\"\"\n",
    "    \n",
    "    # -----------------------------------------\n",
    "    # DO NOT EDIT THIS PORTION OF CODE\n",
    "    # -----------------------------------------\n",
    "    \n",
    "    # Check if the start and goal are within the boundaries of the map\n",
    "    for point in [start, goal]:\n",
    "        for coord in point:\n",
    "            assert coord>=0 and coord<max_val, \"start or end goal not contained in the map\"\n",
    "    \n",
    "    # check if start and goal nodes correspond to free spaces\n",
    "    if occupancy_grid[start[0], start[1]]:\n",
    "        raise Exception('Start node is not traversable')\n",
    "\n",
    "    if occupancy_grid[goal[0], goal[1]]:\n",
    "        raise Exception('Goal node is not traversable')\n",
    "    \n",
    "    # get the possible movements corresponding to the selected connectivity\n",
    "    if movement_type == '4N':\n",
    "        movements = _get_movements_4n()\n",
    "    elif movement_type == '8N':\n",
    "        movements = _get_movements_8n()\n",
    "    else:\n",
    "        raise ValueError('Unknown movement')\n",
    "    \n",
    "    \n",
    "    # --------------------------------------------------------------------------------------------\n",
    "    # A* Algorithm implementation - feel free to change the structure / use another pseudo-code\n",
    "    # --------------------------------------------------------------------------------------------\n",
    "    \n",
    "    \n",
    "    # Here we initialise the variables, feel free to print them or use the variable info function if it is not\n",
    "    # what they contain or how to access the different elements\n",
    "    \n",
    "    # The set of visited nodes that need to be (re-)expanded, i.e. for which the neighbors need to be explored\n",
    "    # Initially, only the start node is known.\n",
    "    openSet = [start]\n",
    "    \n",
    "    # The set of visited nodes that no longer need to be expanded.\n",
    "    # Note that this is an addition w.r.t. the wikipedia pseudocode\n",
    "    # It contains the list of variables that have already been visited \n",
    "    # in order to visualise them in the plots\n",
    "    closedSet = []\n",
    "\n",
    "    # For node n, cameFrom[n] is the node immediately preceding it on the cheapest path from start to n currently known.\n",
    "    cameFrom = dict()\n",
    "\n",
    "    # For node n, gScore[n] is the cost of the cheapest path from start to n currently known.\n",
    "    gScore = dict(zip(coords, [np.inf for x in range(len(coords))]))\n",
    "    gScore[start] = 0\n",
    "\n",
    "    # For node n, fScore[n] := gScore[n] + h(n). map with default value of Infinity\n",
    "    fScore = dict(zip(coords, [np.inf for x in range(len(coords))]))\n",
    "    fScore[start] = h[start]\n",
    "\n",
    "    \n",
    "    # while there are still nodes to visit (hint : change the while condition)\n",
    "    print(\"TODO\")\n",
    "    while len([])!=0: #DUMMY VALUE - TO BE CHANGED\n",
    "        \n",
    "        #find the unvisited node having the lowest fScore[] value\n",
    "        print(\"TODO\")\n",
    "        \n",
    "        #If the goal is reached, reconstruct and return the obtained path\n",
    "        print(\"TODO\")\n",
    "\n",
    "        # If the goal was not reached, for each neighbor of current:\n",
    "        for dx, dy, deltacost in movements:\n",
    "            \n",
    "            print(\"TODO\") \n",
    "            neighbor = (0, 0) #DUMMY VALUE - TO BE CHANGED\n",
    "            \n",
    "            # if the node is not in the map, skip\n",
    "            print(\"TODO\")\n",
    "            \n",
    "            # if the node is occupied or has already been visited, skip\n",
    "            print(\"TODO\")\n",
    "                \n",
    "            # compute the cost to reach the node through the given path\n",
    "            print(\"TODO\")\n",
    "            tentative_gScore = 0 #DUMMY VALUE - TO BE CHANGED\n",
    "            \n",
    "            # Add the neighbor list of nodes who's neighbors need to be visited\n",
    "            print(\"TODO\")\n",
    "            \n",
    "            # If the computed cost if the best one for that node, then update the costs and \n",
    "            # node from which it came\n",
    "            if True:\n",
    "                # This path to neighbor is better than any previous one. Record it!\n",
    "                print(\"TODO\")\n",
    "\n",
    "    # Open set is empty but goal was never reached\n",
    "    print(\"No path found to goal\")\n",
    "    return [], [] #DUMMY VALUE - TO BE CHANGED\n"
   ]
  },
  {
   "cell_type": "code",
   "execution_count": 7,
   "metadata": {
    "ExecuteTime": {
     "end_time": "2020-09-02T10:26:09.001826Z",
     "start_time": "2020-09-02T10:26:08.427990Z"
    }
   },
   "outputs": [
    {
     "name": "stdout",
     "output_type": "stream",
     "text": [
      "TODO\n",
      "TODO\n",
      "No path found to goal\n"
     ]
    },
    {
     "data": {
      "image/png": "[encoded data removed]",
      "text/plain": [
       "<Figure size 504x504 with 1 Axes>"
      ]
     },
     "metadata": {
      "needs_background": "light"
     },
     "output_type": "display_data"
    }
   ],
   "source": [
    "# Define the start and end goal\n",
    "start = (0,0)\n",
    "goal = (43,33)\n",
    "\n",
    "\n",
    "\n",
    "# -----------------------------------------\n",
    "# DO NOT EDIT THIS PORTION OF CODE - \n",
    "# EXECUTION AND PLOTTING OF THE ALGORITHM\n",
    "# -----------------------------------------\n",
    "    \n",
    "    \n",
    "# List of all coordinates in the grid\n",
    "x,y = np.mgrid[0:max_val:1, 0:max_val:1]\n",
    "pos = np.empty(x.shape + (2,))\n",
    "pos[:, :, 0] = x; pos[:, :, 1] = y\n",
    "pos = np.reshape(pos, (x.shape[0]*x.shape[1], 2))\n",
    "coords = list([(int(x[0]), int(x[1])) for x in pos])\n",
    "\n",
    "# Define the heuristic, here = distance to goal ignoring obstacles\n",
    "h = np.linalg.norm(pos - goal, axis=-1)\n",
    "h = dict(zip(coords, h))\n",
    "\n",
    "# Run the A* algorithm\n",
    "path, visitedNodes = A_Star(start, goal, h, coords, occupancy_grid, movement_type=\"8N\")\n",
    "path = np.array(path).reshape(-1, 2).transpose()\n",
    "visitedNodes = np.array(visitedNodes).reshape(-1, 2).transpose()\n",
    "\n",
    "# Displaying the map\n",
    "fig_astar, ax_astar = create_empty_plot(max_val)\n",
    "ax_astar.imshow(occupancy_grid.transpose(), cmap=cmap)\n",
    "\n",
    "# Plot the best path found and the list of visited nodes\n",
    "ax_astar.scatter(visitedNodes[0], visitedNodes[1], marker=\"o\", color = 'orange');\n",
    "ax_astar.plot(path[0], path[1], marker=\"o\", color = 'blue');\n",
    "ax_astar.scatter(start[0], start[1], marker=\"o\", color = 'green', s=200);\n",
    "ax_astar.scatter(goal[0], goal[1], marker=\"o\", color = 'purple', s=200);"
   ]
  },
  {
   "cell_type": "code",
   "execution_count": null,
   "metadata": {},
   "outputs": [],
   "source": []
  }
 ],
 "metadata": {
  "hide_input": false,
  "kernelspec": {
   "display_name": "Python 3",
   "language": "python",
   "name": "python3"
  },
  "language_info": {
   "codemirror_mode": {
    "name": "ipython",
    "version": 3
   },
   "file_extension": ".py",
   "mimetype": "text/x-python",
   "name": "python",
   "nbconvert_exporter": "python",
   "pygments_lexer": "ipython3",
   "version": "3.8.5"
  },
  "toc": {
   "base_numbering": 1,
   "nav_menu": {},
   "number_sections": true,
   "sideBar": true,
   "skip_h1_title": false,
   "title_cell": "Table of Contents",
   "title_sidebar": "Contents",
   "toc_cell": true,
   "toc_position": {},
   "toc_section_display": true,
   "toc_window_display": true
  }
 },
 "nbformat": 4,
 "nbformat_minor": 4
}
