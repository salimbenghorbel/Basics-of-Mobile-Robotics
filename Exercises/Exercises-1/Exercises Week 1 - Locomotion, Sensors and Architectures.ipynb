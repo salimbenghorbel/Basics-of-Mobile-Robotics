{
 "cells": [
  {
   "cell_type": "markdown",
   "metadata": {},
   "source": [
    "\n",
    "<div style=\"border:1px solid black; padding:20px 20px;text-align: justify;text-justify: inter-word\">\n",
    "    <strong>Exercise Session 1 - Locomotion, Sensors and Architectures<br/> Autumn 2020 <br/> Duration : 4 hours (2 in session + 2 at home)</strong><br/><br/>\n",
    "    <span style=\"text-decoration:underline;font-weight:bold;\">How to use this notebook?</span><br/>\n",
    "    This notebook is made of text cells and code cells. The code cells have to be <strong>executed</strong> to see the result of the program. To execute a cell, simply select it and click on the \"play\" button (<span style=\"font: bold 12px/30px Arial, serif;\">&#9658;</span>) in the tool bar just above the notebook, or type <code>shift + enter</code>. It is important to execute the code cells in their order of appearance in the notebook.<br/>\n",
    "You can make use of the table of contents to navigate easily between sections.\n",
    "</div>\n",
    "\n",
    "<br/>\n",
    "\n",
    "<div style=\"justify;text-justify: inter-word\">\n",
    "So that you may familiarise with the notebooks and the basic python syntax, the exercises are provided in notebook form and whenever there are any calculations to be made, we encourage you to do them by code. Also, if you want to take notes, we encourage you to use the markdown or Raw NBConvert cells. \n",
    "</div>"
   ]
  },
  {
   "cell_type": "markdown",
   "metadata": {
    "toc": true
   },
   "source": [
    "<h1>Table of Contents<span class=\"tocSkip\"></span></h1>\n",
    "<div class=\"toc\"><ul class=\"toc-item\"><li><span><a href=\"#Learning-Goals\" data-toc-modified-id=\"Learning-Goals-1\"><span class=\"toc-item-num\">1&nbsp;&nbsp;</span>Learning Goals</a></span></li><li><span><a href=\"#Locomotion\" data-toc-modified-id=\"Locomotion-2\"><span class=\"toc-item-num\">2&nbsp;&nbsp;</span>Locomotion</a></span><ul class=\"toc-item\"><li><span><a href=\"#Activity-1-:-Degrees-of-freedom-and-of-mobility\" data-toc-modified-id=\"Activity-1-:-Degrees-of-freedom-and-of-mobility-2.1\"><span class=\"toc-item-num\">2.1&nbsp;&nbsp;</span>Activity 1 : Degrees of freedom and of mobility</a></span><ul class=\"toc-item\"><li><span><a href=\"#System-1-:-Three-ball-drive-(from-Springer-Handbook-of-Robotics).\" data-toc-modified-id=\"System-1-:-Three-ball-drive-(from-Springer-Handbook-of-Robotics).-2.1.1\"><span class=\"toc-item-num\">2.1.1&nbsp;&nbsp;</span>System 1 : Three ball drive (from Springer Handbook of Robotics).</a></span></li><li><span><a href=\"#System-2-:-Mobile-arm-in-a-2D-space-placed-on-a-1D-mobile-vehicle.\" data-toc-modified-id=\"System-2-:-Mobile-arm-in-a-2D-space-placed-on-a-1D-mobile-vehicle.-2.1.2\"><span class=\"toc-item-num\">2.1.2&nbsp;&nbsp;</span>System 2 : Mobile arm in a 2D space placed on a 1D mobile vehicle.</a></span></li><li><span><a href=\"#System-3-:-Three-Swedish-wheels\" data-toc-modified-id=\"System-3-:-Three-Swedish-wheels-2.1.3\"><span class=\"toc-item-num\">2.1.3&nbsp;&nbsp;</span>System 3 : Three Swedish wheels</a></span></li><li><span><a href=\"#System-4-:-Thymio-suspended-by-2-pulleys\" data-toc-modified-id=\"System-4-:-Thymio-suspended-by-2-pulleys-2.1.4\"><span class=\"toc-item-num\">2.1.4&nbsp;&nbsp;</span>System 4 : Thymio suspended by 2 pulleys</a></span></li><li><span><a href=\"#System-5-:-Synchro-drive-(from-Springer-Handbook-of-Robotics).\" data-toc-modified-id=\"System-5-:-Synchro-drive-(from-Springer-Handbook-of-Robotics).-2.1.5\"><span class=\"toc-item-num\">2.1.5&nbsp;&nbsp;</span>System 5 : Synchro drive (from Springer Handbook of Robotics).</a></span></li></ul></li><li><span><a href=\"#Activity-2-:-Redundant-Systems\" data-toc-modified-id=\"Activity-2-:-Redundant-Systems-2.2\"><span class=\"toc-item-num\">2.2&nbsp;&nbsp;</span>Activity 2 : Redundant Systems</a></span></li></ul></li><li><span><a href=\"#Sensor-Characteristics\" data-toc-modified-id=\"Sensor-Characteristics-3\"><span class=\"toc-item-num\">3&nbsp;&nbsp;</span>Sensor Characteristics</a></span><ul class=\"toc-item\"><li><span><a href=\"#Activity-3-:-Sensors-Overview\" data-toc-modified-id=\"Activity-3-:-Sensors-Overview-3.1\"><span class=\"toc-item-num\">3.1&nbsp;&nbsp;</span>Activity 3 : Sensors Overview</a></span></li><li><span><a href=\"#Activity-4-:-Accelerometers\" data-toc-modified-id=\"Activity-4-:-Accelerometers-3.2\"><span class=\"toc-item-num\">3.2&nbsp;&nbsp;</span>Activity 4 : Accelerometers</a></span></li></ul></li><li><span><a href=\"#Introduction-to-Python-and-Jupyter-Notebooks\" data-toc-modified-id=\"Introduction-to-Python-and-Jupyter-Notebooks-4\"><span class=\"toc-item-num\">4&nbsp;&nbsp;</span>Introduction to Python and Jupyter Notebooks</a></span></li></ul></div>"
   ]
  },
  {
   "cell_type": "markdown",
   "metadata": {},
   "source": [
    "---\n",
    "\n",
    "# Learning Goals\n",
    "\n",
    "After using this notebook, you should be able to:\n",
    "* Understand the characteristics of degrees of freedom and mobility of mobile robots and in particular of a differential drive robot\n",
    "* Understand sensor characteristics and be able to characterise the Thymio's sensors\n",
    "* Learning the basics of Python and Jupyter notebooks that you will need throughout the semester\n",
    "\n",
    "<br/>\n",
    "\n",
    "\n",
    "---\n",
    "---"
   ]
  },
  {
   "cell_type": "markdown",
   "metadata": {},
   "source": [
    "# Locomotion\n",
    "\n",
    "## Activity 1 : Degrees of freedom and of mobility\n",
    "\n",
    "The analysis of a system can be done considering the number of actuators, the numbers of degrees\n",
    "of freedom (DOF) and the number of degrees of mobility (DOM, or directly controllable DOF).\n",
    "\n",
    "\n",
    "Please consider the following five systems, and for each of them, indicate, the number of actuators,\n",
    "DOF, DOM, if the system is redundant and/or holonomic. Can a system by redundant and\n",
    "holonomic at the same time?"
   ]
  },
  {
   "cell_type": "markdown",
   "metadata": {},
   "source": [
    "\n",
    "### System 1 : Three ball drive (from Springer Handbook of Robotics).\n",
    "\n",
    "<br/>\n",
    "\n",
    "![System 1](./images/Ex1System1.jpg)\n",
    "\n",
    "<br/>"
   ]
  },
  {
   "cell_type": "raw",
   "metadata": {},
   "source": [
    "Type your answer here "
   ]
  },
  {
   "cell_type": "markdown",
   "metadata": {},
   "source": [
    "### System 2 : Mobile arm in a 2D space placed on a 1D mobile vehicle.\n",
    "\n",
    "<br/>\n",
    "\n",
    "![System 2](./images/Ex1System2.jpg)\n",
    "\n",
    "<br/>\n"
   ]
  },
  {
   "cell_type": "raw",
   "metadata": {},
   "source": [
    "Type your answer here "
   ]
  },
  {
   "cell_type": "markdown",
   "metadata": {},
   "source": [
    "### System 3 : Three Swedish wheels\n",
    "\n",
    "<br/>\n",
    "\n",
    "![System 3](./images/Ex1System3.jpg)\n",
    "\n",
    "<br/>"
   ]
  },
  {
   "cell_type": "raw",
   "metadata": {},
   "source": [
    "Type your answer here "
   ]
  },
  {
   "cell_type": "markdown",
   "metadata": {},
   "source": [
    "\n",
    "### System 4 : Thymio suspended by 2 pulleys\n",
    "\n",
    "<br/>\n",
    "\n",
    "![System 4](./images/Ex1System4.jpg)\n",
    "\n",
    "<br/>"
   ]
  },
  {
   "cell_type": "raw",
   "metadata": {},
   "source": [
    "Type your answer here "
   ]
  },
  {
   "cell_type": "markdown",
   "metadata": {},
   "source": [
    "\n",
    "\n",
    "### System 5 : Synchro drive (from Springer Handbook of Robotics).\n",
    "\n",
    "<br/>\n",
    "\n",
    "![System 5](./images/Ex1System5.jpg)\n",
    "\n",
    "<br/>"
   ]
  },
  {
   "cell_type": "raw",
   "metadata": {},
   "source": [
    "Type your answer here "
   ]
  },
  {
   "cell_type": "markdown",
   "metadata": {},
   "source": [
    "## Activity 2 : Redundant Systems\n",
    "\n",
    "Redundant systems can be a solution in the optimisation of some mechanisms. Imagine that you\n",
    "have to chose an actuator for a robot. You need to optimise speed and precision, and you have only\n",
    "a fast but not precise actuator, and a slow but precise one. How do you implement your system?"
   ]
  },
  {
   "cell_type": "raw",
   "metadata": {},
   "source": [
    "Type your answer here "
   ]
  },
  {
   "cell_type": "markdown",
   "metadata": {},
   "source": [
    "---\n",
    "---\n",
    "\n",
    "# Sensor Characteristics\n",
    "\n",
    "Building or programming a robot, requires a good understanding of the inputs and outputs of the\n",
    "system. The input is generated by the sensors, and their characteristics are essential to ensure the\n",
    "desired functionalities. These exercices aim at training the analysis of the sensor characteristics on a real system. Moreover, as the system we are analysing is very cheap, the sensors have several\n",
    "weaknesses that need to be identified and considered when programming it. Seen from a different\n",
    "perspective, it is possible to use cheap sensors to provide interesting information, if one knows how\n",
    "to extract the correct information from them.\n",
    "\n",
    "\n",
    "The goal of this exercise is to apply the sensor-related concepts of the course on the Thymio robot,\n",
    "obtaining their characterisation and enabling an optimal use of the information they provide.\n",
    "\n",
    "\n",
    "To achieve the main goal, we will go through the following steps:\n",
    "\n",
    "* Understanding the type of sensors available.\n",
    "\n",
    "* For several sensors we will go through:\n",
    "\n",
    "    – Define range, sensitivity, bandwidth, cross-talk, precision, resolution.\n",
    "    \n",
    "    – Look at the linearity and accuracy of the sensors. Make a function to linearise the sensor.\n",
    "    \n",
    "    – Verify the linearity in respect to a movement of the robot.\n",
    "    \n",
    "    \n",
    "**Appendice: files provided**\n",
    "\n",
    "The following source files are provided in the zip folder to help :\n",
    "\n",
    "* ``ThymioCheatSheet.pdf``: Contains the main specifications of the functions, variables and events of Thymio.\n",
    "\n",
    "* ``MMA7660FC.pdf``: The Thymio accelerometer datasheet."
   ]
  },
  {
   "cell_type": "markdown",
   "metadata": {},
   "source": [
    "## Activity 3 : Sensors Overview\n",
    "\n",
    "Look on the web for the sensors available on the robot. The sensors also include devices for human robot interaction, as they are used to sense the user.\n",
    "\n",
    "\n",
    "To have a complete list you can look at the specifications of the robot, at its schematics, or at the cheat sheet that is provided with these exercices.\n",
    "\n",
    "Make a list of all sensors specifying for each of them:\n",
    "\n",
    "* What is the physical principle of the sensor?\n",
    "\n",
    "* Is the sensor proprioceptive or exteroceptive?\n",
    "\n",
    "* Is the sensor active or passive?\n",
    "\n",
    "\n",
    "Or if you feel comfortable / courageous, you can try doing it in the form of a markdown table. [Here](https://www.tablesgenerator.com/markdown_tables) is a handy tool to help with table generation that you can also use for latex "
   ]
  },
  {
   "cell_type": "raw",
   "metadata": {},
   "source": [
    "Type your answer here (if you prefer a list)"
   ]
  },
  {
   "cell_type": "markdown",
   "metadata": {},
   "source": [
    "Or here if you want to try the markdown table"
   ]
  },
  {
   "cell_type": "markdown",
   "metadata": {},
   "source": [
    "## Activity 4 : Accelerometers\n",
    "\n",
    "Get an approximate value of the range, resolution, bandwidth of the sensor, dynamic range, precision,\n",
    "and accuracy of the accelerometers.\n"
   ]
  },
  {
   "cell_type": "markdown",
   "metadata": {},
   "source": [
    "# Introduction to Python and Jupyter Notebooks\n",
    "\n",
    "As you don't have the Thymio's yet (lovely COVID, making our lives so much easier) we have moved the exercise on reactive architectures to Week 3. In its place you are encouraged to start going over the introduction to python and Juypter notebooks that we prepared for you. This is especially important if you do not have any or have little experience in python / Jupyter notebooks."
   ]
  },
  {
   "cell_type": "code",
   "execution_count": null,
   "metadata": {},
   "outputs": [],
   "source": []
  }
 ],
 "metadata": {
  "hide_input": false,
  "kernelspec": {
   "display_name": "Python 3",
   "language": "python",
   "name": "python3"
  },
  "language_info": {
   "codemirror_mode": {
    "name": "ipython",
    "version": 3
   },
   "file_extension": ".py",
   "mimetype": "text/x-python",
   "name": "python",
   "nbconvert_exporter": "python",
   "pygments_lexer": "ipython3",
   "version": "3.8.5"
  },
  "toc": {
   "base_numbering": 1,
   "nav_menu": {},
   "number_sections": true,
   "sideBar": true,
   "skip_h1_title": false,
   "title_cell": "Table of Contents",
   "title_sidebar": "Contents",
   "toc_cell": true,
   "toc_position": {},
   "toc_section_display": true,
   "toc_window_display": true
  }
 },
 "nbformat": 4,
 "nbformat_minor": 4
}
