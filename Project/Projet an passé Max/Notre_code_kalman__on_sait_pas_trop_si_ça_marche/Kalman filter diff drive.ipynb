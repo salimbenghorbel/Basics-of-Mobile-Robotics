{
 "cells": [
  {
   "cell_type": "code",
   "execution_count": 6,
   "metadata": {},
   "outputs": [
    {
     "name": "stdout",
     "output_type": "stream",
     "text": [
      "c:\\users\\maxime\\appdata\\local\\programs\\python\\python37\\python.exe\n"
     ]
    }
   ],
   "source": [
    "import os\n",
    "import sys\n",
    "import time\n",
    "#import serial\n",
    "import math\n",
    "from statistics import mean\n",
    "import pandas as pd\n",
    "import numpy as np\n",
    "import matplotlib.pyplot as plt\n",
    "from scipy.interpolate import interp1d\n",
    "from scipy.signal import fftconvolve\n",
    "from tqdm import tqdm \n",
    "\n",
    "sys.path.insert(0, os.path.join(os.getcwd(), 'src'))\n",
    "\n",
    "from Thymio import Thymio\n",
    "\n",
    "print(sys.executable)"
   ]
  },
  {
   "cell_type": "code",
   "execution_count": 7,
   "metadata": {},
   "outputs": [],
   "source": [
    "# a changer\n",
    "th = Thymio.serial(port=\"\\\\.\\COM6\", refreshing_rate=0.1)"
   ]
  },
  {
   "cell_type": "code",
   "execution_count": 8,
   "metadata": {
    "scrolled": true
   },
   "outputs": [],
   "source": [
    "class kalman():\n",
    "    def __init__(self,x,y,theta, prev_x = 0, prev_y= 0, prev_theta=0, dist_wheels=94 , v_coef= 0.3375):\n",
    "        self.x = x \n",
    "        self.y = y\n",
    "        self.theta = theta\n",
    "        self.prev_x = prev_x\n",
    "        self.prev_y = prev_y\n",
    "        self.prev_theta = prev_theta\n",
    "    \n",
    "        self.dist_wheels = dist_wheels\n",
    "        self.v_coef = v_coef\n",
    "        \n",
    "        self.d_marker = 0 # distance between markers, a definir\n",
    "        \n",
    "        # a definir, avec les variances des roues et autres\n",
    "        self.Q = np.array([[0, 0.0, 0.0],[0.0, 0.2, 0.0],[0.0, 0.0, 0.02]]) \n",
    "                          \n",
    "        # a definir, avec le noise de machine vision\n",
    "        self.R = np.array([[0, 0, 0, 0],[0, 0, 0, 0],[0, 0, 0, 0],[0, 0, 0, 0]])\n",
    "    \n",
    "        #a completer \n",
    "    \n",
    "    def wheeldisplacements(self,dt):\n",
    "        v_l = th[\"motor.left.speed\"]*self.v_coef\n",
    "        v_r = th[\"motor.right.speed\"]*self.v_coef\n",
    "        \n",
    "        d_l = v_l*dt \n",
    "        d_r = v_r*dt\n",
    "        return d_l, d_r\n",
    "    \n",
    "    \n",
    "    def prediction(self, P ,sigma,dt):\n",
    "        \n",
    "        [x_prev, y_prev, theta_prev] = P\n",
    "        [d_l, d_r] = self.wheeldisplacements(dt)\n",
    "        \n",
    "        # vérifier l'angle par rapport au repere global\n",
    "        x = prev_x + ((d_l+d_r)/2)*np.cos(prev_theta + (d_r-d_l)/(2*self.dist_wheels))\n",
    "        y = prev_y + ((d_l+d_r)/2)*np.sin(prev_theta + (d_r-d_l)/(2*self.dist_wheels))\n",
    "        theta = prev_theta + (d_r-d_l)/self.dist_wheels\n",
    "                     \n",
    "        G = np.array([[1.0, 0.0, -((d_l+d_r)/2)*np.sin(prev_theta + (d_r-d_l)/(2*self.dist_wheels))],\\\n",
    "                      [0.0, 1.0, ((d_l+d_r)/2)*np.cos(prev_theta + (d_r-d_l)/(2*self.dist_wheels))],\\\n",
    "                      [0.0, 0.0, 1.0]])\n",
    "                     \n",
    "        mu = [x, y, theta]\n",
    "        sigma = np.dot(np.dot(G,sigma),np.transpose(G)) + self.Q\n",
    "                     \n",
    "        return mu, sigma\n",
    "                     \n",
    "    def correction(self, measurement, P, sigma):\n",
    "        \n",
    "        # measurement : list de x_track1, y_track1, x_track2, y_track2 VERTICALE !\n",
    "        \n",
    "        [x, y, theta] = P\n",
    "        \n",
    "        #z = h(X) + R\n",
    "        #x_track1 = x\n",
    "        #y_track1 = y \n",
    "        #x_track2 = x + d_marker*cos(theta)\n",
    "        #y_track2 = y + d_marker*sin(theta)\n",
    "                     \n",
    "        # a verifier si l'angle correspond avec tout\n",
    "        H = np.array([1, 0, 0],\\\n",
    "                     [0, 1, 0],\\\n",
    "                     [1, 0, -self.d_marker*np.sin(theta)],\\\n",
    "                     [0, 1, self.d_marker*np.cos(theta)])\n",
    "        expect_measurement = np.array([x], [y], [x + self.d_marker*np.cos(theta)], [y + self.d_marker*np.sin(theta)])\n",
    "                    \n",
    "        #Kalman gain \n",
    "        K_help = np.linalg.inv(np.dot(np.dot(H,sigma),np.transpose(H)) + self.R)\n",
    "        K = np.dot(np.dot(sigma,np.transpose(H)),K_help)\n",
    "        \n",
    "        #correction\n",
    "        mu = [x, y, theta] + np.dot(K,(np.array(measurement) - expect_measurement))\n",
    "        sigma = np.dot(np.eye(len(sigma)) - np.dot(K,H),sigma)\n",
    "        \n",
    "        return mu, sigma\n",
    "        \n",
    "\n"
   ]
  },
  {
   "cell_type": "code",
   "execution_count": 9,
   "metadata": {},
   "outputs": [
    {
     "name": "stdout",
     "output_type": "stream",
     "text": [
      "pose is [[0, 0, 0], [0.6581612131288365, -0.0017724173500499102, -0.005385954170785052], [1.9913405761513268, -0.009192284437833684, -0.005745016926146568], [3.3245203673936916, -0.017090865493698242, -0.006104080537532235], [4.75894091359377, -0.027134465644007965, -0.00789939431433982], [6.362108343686123, -0.039510944333859044, -0.007540331558978303], [7.931498877595027, -0.05500799467922633, -0.012208158506992016], [9.48394921761879, -0.07563404931126677, -0.014362535039161115], [11.019481812557647, -0.09906839052799624, -0.016157848815968698], [12.571842277956652, -0.12582603417518676, -0.01831223048428272], [14.191605928953107, -0.1583998936136982, -0.021902858037897883], [15.861904244577396, -0.19589010717811411, -0.022980046303982433], [17.565963646591452, -0.2335259245068889, -0.021184728247054082], [19.236350915685342, -0.26681782351387456, -0.018671288959523465], [21.008056929260597, -0.29767444002430804, -0.01615784967199285], [22.797554960532473, -0.32431946025706654, -0.013619273235189152], [24.63688047234414, -0.34838045700735004, -0.012542082401032141], [26.49309715366472, -0.37099590021991985, -0.011823956890309108], [28.31556444077947, -0.39320015355589744, -0.01254208240103214], [30.003018951657538, -0.4149714570275737, -0.013260207911755173], [31.572336580660245, -0.4366275368576395, -0.014337398745912184], [33.141638253190024, -0.4594105807173102, -0.014696462357297855], [34.66029688757299, -0.4828219345618469, -0.016132716802840535], [36.111422496164494, -0.5072769380865259, -0.017568967824286602], [37.562511484541254, -0.5338160963091496, -0.01900521884573267], [39.21608194841965, -0.564058462156623, -0.017568964400189985], [40.86970009968715, -0.5913320351735841, -0.015414587868020886], [42.52337317095576, -0.6150430315151779, -0.013260211335851788], [44.17710455751456, -0.6345975914278117, -0.010387702444766427], [45.83085838107234, -0.6517769119761446, -0.010387702444766427], [47.484596682356845, -0.6707376758770659, -0.012542084113080448], [49.13827816079975, -0.6938548954623164, -0.01541458615597258], [50.724420071130254, -0.7188762162821078, -0.016132711666695613], [52.25993605763809, -0.7433746580036169, -0.015773648911334096], [53.879847463236075, -0.7677651121831138, -0.014337394465791416], [55.601026144963114, -0.7918258858579537, -0.013619268955068382], [57.38970202989514, -0.816830219284748, -0.014337394465791416], [59.110857898343, -0.8427450768504635, -0.015773648911334096], [60.781344730915706, -0.870596854022632, -0.01756896268814168], [62.43492200499481, -0.9002454060207031, -0.01828708819886471], [64.08848150345126, -0.931081501226388, -0.019005215421636048], [65.75891564120334, -0.9619322827866122, -0.017928027155551498], [67.395624919896, -0.9909844611400314, -0.01756896440018998], [68.94798006458434, -1.0182605398934614, -0.01756896440018998], [70.50033750122634, -1.0449790965881802, -0.01685083888946695], [72.17083820918884, -1.072231128058017, -0.015773648055309942], [73.87513828527234, -1.0963619918995295, -0.012542083257056295], [75.54575089618724, -1.1152162631005393, -0.01002864396952568], [77.24982411494047, -1.1294976618366366, -0.0067324484916443505], [78.98802146897587, -1.1396397925386472, -0.004937130434716]]\n",
      "sigma is [[4.56530362e-01 3.07443425e+01 5.71882779e-01]\n",
      " [3.07443425e+01 2.08149465e+03 3.88642009e+01]\n",
      " [5.71882779e-01 3.88642009e+01 9.80000000e-01]]\n"
     ]
    },
    {
     "name": "stderr",
     "output_type": "stream",
     "text": [
      "Exception in thread Thread-7:\n",
      "Traceback (most recent call last):\n",
      "  File \"c:\\users\\maxime\\appdata\\local\\programs\\python\\python37\\lib\\threading.py\", line 926, in _bootstrap_inner\n",
      "    self.run()\n",
      "  File \"c:\\users\\maxime\\appdata\\local\\programs\\python\\python37\\lib\\threading.py\", line 870, in run\n",
      "    self._target(*self._args, **self._kwargs)\n",
      "  File \"C:\\Users\\Maxime\\Documents\\Basics of mobile robotics - Projet\\KALMAN\\Thymio.py\", line 340, in do_refresh\n",
      "    self.get_variables()\n",
      "  File \"C:\\Users\\Maxime\\Documents\\Basics of mobile robotics - Projet\\KALMAN\\Thymio.py\", line 499, in get_variables\n",
      "    self.send(msg)\n",
      "  File \"C:\\Users\\Maxime\\Documents\\Basics of mobile robotics - Projet\\KALMAN\\Thymio.py\", line 456, in send\n",
      "    self.io.write(msg.serialize())\n",
      "  File \"c:\\users\\maxime\\appdata\\local\\programs\\python\\python37\\lib\\site-packages\\serial\\serialwin32.py\", line 323, in write\n",
      "    raise writeTimeoutError\n",
      "serial.serialutil.SerialTimeoutException: Write timeout\n",
      "\n"
     ]
    }
   ],
   "source": [
    "x = 0\n",
    "y = 0\n",
    "theta = 0 \n",
    "P = [[x, y, theta]]\n",
    "sigma=np.zeros((3,3))\n",
    "\n",
    "#dt = 0.1\n",
    "\n",
    "th.set_var(\"motor.left.target\", 50)\n",
    "th.set_var(\"motor.right.target\", 50)\n",
    "\n",
    "ka = kalman(x,y,theta)\n",
    "start = time.time()\n",
    "t = start\n",
    "time.sleep(0.1)\n",
    "\n",
    "while time.time()-start<5 :\n",
    "    \n",
    "    [prev_x, prev_y, prev_theta] = P[-1]\n",
    "    prev_t = t\n",
    "    t = time.time()\n",
    "    dt = t-prev_t\n",
    "    \n",
    "    [newP, sigma] = ka.prediction(P[-1],sigma,dt)\n",
    "    P.append(newP)\n",
    "    time.sleep(0.1)\n",
    "#    X.append(x) \n",
    "#    Y.append(y)\n",
    "#    THETA.append(theta)\n",
    "\n",
    "\n",
    "th.set_var(\"motor.left.target\", 0)\n",
    "th.set_var(\"motor.right.target\", 0)\n",
    "print('pose is', P)\n",
    "print('sigma is', sigma)"
   ]
  },
  {
   "cell_type": "code",
   "execution_count": 8,
   "metadata": {},
   "outputs": [],
   "source": [
    "\n",
    "th.set_var(\"motor.left.target\", 0)\n",
    "th.set_var(\"motor.right.target\", 0)"
   ]
  }
 ],
 "metadata": {
  "kernelspec": {
   "display_name": "Python 3",
   "language": "python",
   "name": "python3"
  },
  "language_info": {
   "codemirror_mode": {
    "name": "ipython",
    "version": 3
   },
   "file_extension": ".py",
   "mimetype": "text/x-python",
   "name": "python",
   "nbconvert_exporter": "python",
   "pygments_lexer": "ipython3",
   "version": "3.7.7"
  }
 },
 "nbformat": 4,
 "nbformat_minor": 2
}
